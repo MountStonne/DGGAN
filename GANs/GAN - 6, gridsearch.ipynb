{
 "cells": [
  {
   "cell_type": "code",
   "execution_count": 3,
   "metadata": {},
   "outputs": [],
   "source": [
    "import torch\n",
    "import torch.nn as nn\n",
    "import torch.optim as optim\n",
    "import torchvision\n",
    "from torch.utils.data import Dataset, DataLoader\n",
    "import torchvision.transforms as transforms\n",
    "from torch.utils.tensorboard import SummaryWriter  # to print to tensorboard\n",
    "\n",
    "import pandas as pd\n",
    "import numpy as np\n",
    "from tqdm.notebook import tqdm\n",
    "from sdmetrics.reports.utils import get_column_plot\n",
    "from sdmetrics.reports.single_table import QualityReport\n",
    "from sdv import Metadata\n",
    "import seaborn as sns\n",
    "import matplotlib.pyplot as plt\n",
    "import torch.nn.functional as F\n",
    "from sdmetrics.single_column import BoundaryAdherence"
   ]
  },
  {
   "cell_type": "code",
   "execution_count": 4,
   "metadata": {},
   "outputs": [],
   "source": [
    "import warnings\n",
    "warnings.filterwarnings('ignore')"
   ]
  },
  {
   "cell_type": "markdown",
   "metadata": {},
   "source": [
    "# Data pre-process"
   ]
  },
  {
   "cell_type": "markdown",
   "metadata": {},
   "source": [
    "## Read cleaned data"
   ]
  },
  {
   "cell_type": "code",
   "execution_count": 5,
   "metadata": {},
   "outputs": [],
   "source": [
    "# Please ensure that there is no duplicate keyword among column names, E.g., 'Sport' and 'AmountOfSport'\n",
    "# df = pd.read_csv('../OlympicHistory/CleanedData.csv')\n",
    "df = pd.read_csv('../OlympicHistory/CleanedData.csv').iloc[0:5000, :]"
   ]
  },
  {
   "cell_type": "code",
   "execution_count": 6,
   "metadata": {
    "scrolled": false
   },
   "outputs": [
    {
     "data": {
      "text/html": [
       "<div>\n",
       "<style scoped>\n",
       "    .dataframe tbody tr th:only-of-type {\n",
       "        vertical-align: middle;\n",
       "    }\n",
       "\n",
       "    .dataframe tbody tr th {\n",
       "        vertical-align: top;\n",
       "    }\n",
       "\n",
       "    .dataframe thead th {\n",
       "        text-align: right;\n",
       "    }\n",
       "</style>\n",
       "<table border=\"1\" class=\"dataframe\">\n",
       "  <thead>\n",
       "    <tr style=\"text-align: right;\">\n",
       "      <th></th>\n",
       "      <th>ID</th>\n",
       "      <th>Name</th>\n",
       "      <th>Sex</th>\n",
       "      <th>Age</th>\n",
       "      <th>Height</th>\n",
       "      <th>Weight</th>\n",
       "      <th>Team</th>\n",
       "      <th>NOC</th>\n",
       "      <th>Year</th>\n",
       "      <th>Season</th>\n",
       "      <th>City</th>\n",
       "      <th>Sport</th>\n",
       "      <th>Event</th>\n",
       "      <th>Medal</th>\n",
       "      <th>AOS</th>\n",
       "      <th>AOE</th>\n",
       "      <th>YOB</th>\n",
       "    </tr>\n",
       "  </thead>\n",
       "  <tbody>\n",
       "    <tr>\n",
       "      <th>0</th>\n",
       "      <td>1</td>\n",
       "      <td>A Dijiang</td>\n",
       "      <td>M</td>\n",
       "      <td>24.0</td>\n",
       "      <td>180.0</td>\n",
       "      <td>80.0</td>\n",
       "      <td>China</td>\n",
       "      <td>CHN</td>\n",
       "      <td>1992</td>\n",
       "      <td>Summer</td>\n",
       "      <td>Barcelona</td>\n",
       "      <td>Basketball</td>\n",
       "      <td>Basketball Men's Basketball</td>\n",
       "      <td>Thanks</td>\n",
       "      <td>1</td>\n",
       "      <td>1</td>\n",
       "      <td>1968</td>\n",
       "    </tr>\n",
       "    <tr>\n",
       "      <th>1</th>\n",
       "      <td>2</td>\n",
       "      <td>A Lamusi</td>\n",
       "      <td>M</td>\n",
       "      <td>23.0</td>\n",
       "      <td>170.0</td>\n",
       "      <td>60.0</td>\n",
       "      <td>China</td>\n",
       "      <td>CHN</td>\n",
       "      <td>2012</td>\n",
       "      <td>Summer</td>\n",
       "      <td>London</td>\n",
       "      <td>Judo</td>\n",
       "      <td>Judo Men's Extra-Lightweight</td>\n",
       "      <td>Thanks</td>\n",
       "      <td>1</td>\n",
       "      <td>1</td>\n",
       "      <td>1989</td>\n",
       "    </tr>\n",
       "    <tr>\n",
       "      <th>2</th>\n",
       "      <td>3</td>\n",
       "      <td>Gunnar Nielsen Aaby</td>\n",
       "      <td>M</td>\n",
       "      <td>24.0</td>\n",
       "      <td>175.0</td>\n",
       "      <td>71.0</td>\n",
       "      <td>Denmark</td>\n",
       "      <td>DEN</td>\n",
       "      <td>1920</td>\n",
       "      <td>Summer</td>\n",
       "      <td>Antwerpen</td>\n",
       "      <td>Football</td>\n",
       "      <td>Football Men's Football</td>\n",
       "      <td>Thanks</td>\n",
       "      <td>1</td>\n",
       "      <td>1</td>\n",
       "      <td>1896</td>\n",
       "    </tr>\n",
       "    <tr>\n",
       "      <th>3</th>\n",
       "      <td>4</td>\n",
       "      <td>Edgar Lindenau Aabye</td>\n",
       "      <td>M</td>\n",
       "      <td>34.0</td>\n",
       "      <td>182.0</td>\n",
       "      <td>95.0</td>\n",
       "      <td>Denmark/Sweden</td>\n",
       "      <td>DEN</td>\n",
       "      <td>1900</td>\n",
       "      <td>Summer</td>\n",
       "      <td>Paris</td>\n",
       "      <td>Tug-Of-War</td>\n",
       "      <td>Tug-Of-War Men's Tug-Of-War</td>\n",
       "      <td>Gold</td>\n",
       "      <td>1</td>\n",
       "      <td>1</td>\n",
       "      <td>1866</td>\n",
       "    </tr>\n",
       "    <tr>\n",
       "      <th>4</th>\n",
       "      <td>5</td>\n",
       "      <td>Christine Jacoba Aaftink</td>\n",
       "      <td>F</td>\n",
       "      <td>21.0</td>\n",
       "      <td>185.0</td>\n",
       "      <td>82.0</td>\n",
       "      <td>Netherlands</td>\n",
       "      <td>NED</td>\n",
       "      <td>1988</td>\n",
       "      <td>Winter</td>\n",
       "      <td>Calgary</td>\n",
       "      <td>Speed Skating</td>\n",
       "      <td>Speed Skating Women's 500 metres</td>\n",
       "      <td>Thanks</td>\n",
       "      <td>1</td>\n",
       "      <td>2</td>\n",
       "      <td>1967</td>\n",
       "    </tr>\n",
       "    <tr>\n",
       "      <th>...</th>\n",
       "      <td>...</td>\n",
       "      <td>...</td>\n",
       "      <td>...</td>\n",
       "      <td>...</td>\n",
       "      <td>...</td>\n",
       "      <td>...</td>\n",
       "      <td>...</td>\n",
       "      <td>...</td>\n",
       "      <td>...</td>\n",
       "      <td>...</td>\n",
       "      <td>...</td>\n",
       "      <td>...</td>\n",
       "      <td>...</td>\n",
       "      <td>...</td>\n",
       "      <td>...</td>\n",
       "      <td>...</td>\n",
       "      <td>...</td>\n",
       "    </tr>\n",
       "    <tr>\n",
       "      <th>4995</th>\n",
       "      <td>3729</td>\n",
       "      <td>Henrik Andersen</td>\n",
       "      <td>M</td>\n",
       "      <td>25.0</td>\n",
       "      <td>168.0</td>\n",
       "      <td>75.0</td>\n",
       "      <td>Denmark</td>\n",
       "      <td>DEN</td>\n",
       "      <td>1992</td>\n",
       "      <td>Summer</td>\n",
       "      <td>Barcelona</td>\n",
       "      <td>Weightlifting</td>\n",
       "      <td>Weightlifting Men's Middleweight</td>\n",
       "      <td>Thanks</td>\n",
       "      <td>1</td>\n",
       "      <td>1</td>\n",
       "      <td>1967</td>\n",
       "    </tr>\n",
       "    <tr>\n",
       "      <th>4996</th>\n",
       "      <td>3730</td>\n",
       "      <td>Henrik Steen Andersen</td>\n",
       "      <td>M</td>\n",
       "      <td>23.0</td>\n",
       "      <td>193.0</td>\n",
       "      <td>95.0</td>\n",
       "      <td>Denmark</td>\n",
       "      <td>DEN</td>\n",
       "      <td>2000</td>\n",
       "      <td>Summer</td>\n",
       "      <td>Sydney</td>\n",
       "      <td>Swimming</td>\n",
       "      <td>Swimming Men's 4 x 100 metres Freestyle Relay</td>\n",
       "      <td>Thanks</td>\n",
       "      <td>1</td>\n",
       "      <td>2</td>\n",
       "      <td>1977</td>\n",
       "    </tr>\n",
       "    <tr>\n",
       "      <th>4997</th>\n",
       "      <td>3731</td>\n",
       "      <td>Henry Anders Peter Brask Andersen</td>\n",
       "      <td>M</td>\n",
       "      <td>23.0</td>\n",
       "      <td>176.0</td>\n",
       "      <td>70.0</td>\n",
       "      <td>Denmark</td>\n",
       "      <td>DEN</td>\n",
       "      <td>1920</td>\n",
       "      <td>Summer</td>\n",
       "      <td>Antwerpen</td>\n",
       "      <td>Cycling</td>\n",
       "      <td>Cycling Men's Sprint</td>\n",
       "      <td>Thanks</td>\n",
       "      <td>1</td>\n",
       "      <td>2</td>\n",
       "      <td>1897</td>\n",
       "    </tr>\n",
       "    <tr>\n",
       "      <th>4998</th>\n",
       "      <td>3732</td>\n",
       "      <td>Herluf Juhl Andersen</td>\n",
       "      <td>M</td>\n",
       "      <td>40.0</td>\n",
       "      <td>177.0</td>\n",
       "      <td>69.0</td>\n",
       "      <td>Denmark</td>\n",
       "      <td>DEN</td>\n",
       "      <td>1972</td>\n",
       "      <td>Summer</td>\n",
       "      <td>Munich</td>\n",
       "      <td>Archery</td>\n",
       "      <td>Archery Men's Individual</td>\n",
       "      <td>Thanks</td>\n",
       "      <td>1</td>\n",
       "      <td>1</td>\n",
       "      <td>1932</td>\n",
       "    </tr>\n",
       "    <tr>\n",
       "      <th>4999</th>\n",
       "      <td>3733</td>\n",
       "      <td>Herman Viktor Gunder Andersen</td>\n",
       "      <td>M</td>\n",
       "      <td>19.0</td>\n",
       "      <td>172.0</td>\n",
       "      <td>72.0</td>\n",
       "      <td>Denmark</td>\n",
       "      <td>DEN</td>\n",
       "      <td>1924</td>\n",
       "      <td>Summer</td>\n",
       "      <td>Paris</td>\n",
       "      <td>Wrestling</td>\n",
       "      <td>Wrestling Men's Bantamweight, Greco-Roman</td>\n",
       "      <td>Thanks</td>\n",
       "      <td>1</td>\n",
       "      <td>1</td>\n",
       "      <td>1905</td>\n",
       "    </tr>\n",
       "  </tbody>\n",
       "</table>\n",
       "<p>5000 rows × 17 columns</p>\n",
       "</div>"
      ],
      "text/plain": [
       "        ID                               Name Sex   Age  Height  Weight  \\\n",
       "0        1                          A Dijiang   M  24.0   180.0    80.0   \n",
       "1        2                           A Lamusi   M  23.0   170.0    60.0   \n",
       "2        3                Gunnar Nielsen Aaby   M  24.0   175.0    71.0   \n",
       "3        4               Edgar Lindenau Aabye   M  34.0   182.0    95.0   \n",
       "4        5           Christine Jacoba Aaftink   F  21.0   185.0    82.0   \n",
       "...    ...                                ...  ..   ...     ...     ...   \n",
       "4995  3729                    Henrik Andersen   M  25.0   168.0    75.0   \n",
       "4996  3730              Henrik Steen Andersen   M  23.0   193.0    95.0   \n",
       "4997  3731  Henry Anders Peter Brask Andersen   M  23.0   176.0    70.0   \n",
       "4998  3732               Herluf Juhl Andersen   M  40.0   177.0    69.0   \n",
       "4999  3733      Herman Viktor Gunder Andersen   M  19.0   172.0    72.0   \n",
       "\n",
       "                Team  NOC  Year  Season       City          Sport  \\\n",
       "0              China  CHN  1992  Summer  Barcelona     Basketball   \n",
       "1              China  CHN  2012  Summer     London           Judo   \n",
       "2            Denmark  DEN  1920  Summer  Antwerpen       Football   \n",
       "3     Denmark/Sweden  DEN  1900  Summer      Paris     Tug-Of-War   \n",
       "4        Netherlands  NED  1988  Winter    Calgary  Speed Skating   \n",
       "...              ...  ...   ...     ...        ...            ...   \n",
       "4995         Denmark  DEN  1992  Summer  Barcelona  Weightlifting   \n",
       "4996         Denmark  DEN  2000  Summer     Sydney       Swimming   \n",
       "4997         Denmark  DEN  1920  Summer  Antwerpen        Cycling   \n",
       "4998         Denmark  DEN  1972  Summer     Munich        Archery   \n",
       "4999         Denmark  DEN  1924  Summer      Paris      Wrestling   \n",
       "\n",
       "                                              Event   Medal  AOS  AOE   YOB  \n",
       "0                       Basketball Men's Basketball  Thanks    1    1  1968  \n",
       "1                      Judo Men's Extra-Lightweight  Thanks    1    1  1989  \n",
       "2                           Football Men's Football  Thanks    1    1  1896  \n",
       "3                       Tug-Of-War Men's Tug-Of-War    Gold    1    1  1866  \n",
       "4                  Speed Skating Women's 500 metres  Thanks    1    2  1967  \n",
       "...                                             ...     ...  ...  ...   ...  \n",
       "4995               Weightlifting Men's Middleweight  Thanks    1    1  1967  \n",
       "4996  Swimming Men's 4 x 100 metres Freestyle Relay  Thanks    1    2  1977  \n",
       "4997                           Cycling Men's Sprint  Thanks    1    2  1897  \n",
       "4998                       Archery Men's Individual  Thanks    1    1  1932  \n",
       "4999      Wrestling Men's Bantamweight, Greco-Roman  Thanks    1    1  1905  \n",
       "\n",
       "[5000 rows x 17 columns]"
      ]
     },
     "execution_count": 6,
     "metadata": {},
     "output_type": "execute_result"
    }
   ],
   "source": [
    "df"
   ]
  },
  {
   "cell_type": "code",
   "execution_count": 7,
   "metadata": {},
   "outputs": [],
   "source": [
    "# number of unique:\n",
    "# Sex:            2\n",
    "# Team:           1047\n",
    "# NOC:            230\n",
    "# Year:           35\n",
    "# Season:         2\n",
    "# City:           42\n",
    "# Sport:          66\n",
    "# Event:          710\n",
    "# Medal:          4\n",
    "# AOS:  4\n",
    "# AOE:  23\n",
    "# YearOfBirth:    169"
   ]
  },
  {
   "cell_type": "markdown",
   "metadata": {},
   "source": [
    "## Find continuous data"
   ]
  },
  {
   "cell_type": "markdown",
   "metadata": {},
   "source": [
    "## Find categorical data"
   ]
  },
  {
   "cell_type": "code",
   "execution_count": 8,
   "metadata": {},
   "outputs": [
    {
     "data": {
      "text/html": [
       "<div>\n",
       "<style scoped>\n",
       "    .dataframe tbody tr th:only-of-type {\n",
       "        vertical-align: middle;\n",
       "    }\n",
       "\n",
       "    .dataframe tbody tr th {\n",
       "        vertical-align: top;\n",
       "    }\n",
       "\n",
       "    .dataframe thead th {\n",
       "        text-align: right;\n",
       "    }\n",
       "</style>\n",
       "<table border=\"1\" class=\"dataframe\">\n",
       "  <thead>\n",
       "    <tr style=\"text-align: right;\">\n",
       "      <th></th>\n",
       "      <th>Sex</th>\n",
       "      <th>Year</th>\n",
       "      <th>Season</th>\n",
       "      <th>City</th>\n",
       "      <th>Sport</th>\n",
       "      <th>Medal</th>\n",
       "      <th>AOS</th>\n",
       "      <th>AOE</th>\n",
       "    </tr>\n",
       "  </thead>\n",
       "  <tbody>\n",
       "    <tr>\n",
       "      <th>0</th>\n",
       "      <td>M</td>\n",
       "      <td>1992</td>\n",
       "      <td>Summer</td>\n",
       "      <td>Barcelona</td>\n",
       "      <td>Basketball</td>\n",
       "      <td>Thanks</td>\n",
       "      <td>1</td>\n",
       "      <td>1</td>\n",
       "    </tr>\n",
       "    <tr>\n",
       "      <th>1</th>\n",
       "      <td>M</td>\n",
       "      <td>2012</td>\n",
       "      <td>Summer</td>\n",
       "      <td>London</td>\n",
       "      <td>Judo</td>\n",
       "      <td>Thanks</td>\n",
       "      <td>1</td>\n",
       "      <td>1</td>\n",
       "    </tr>\n",
       "    <tr>\n",
       "      <th>2</th>\n",
       "      <td>M</td>\n",
       "      <td>1920</td>\n",
       "      <td>Summer</td>\n",
       "      <td>Antwerpen</td>\n",
       "      <td>Football</td>\n",
       "      <td>Thanks</td>\n",
       "      <td>1</td>\n",
       "      <td>1</td>\n",
       "    </tr>\n",
       "    <tr>\n",
       "      <th>3</th>\n",
       "      <td>M</td>\n",
       "      <td>1900</td>\n",
       "      <td>Summer</td>\n",
       "      <td>Paris</td>\n",
       "      <td>Tug-Of-War</td>\n",
       "      <td>Gold</td>\n",
       "      <td>1</td>\n",
       "      <td>1</td>\n",
       "    </tr>\n",
       "    <tr>\n",
       "      <th>4</th>\n",
       "      <td>F</td>\n",
       "      <td>1988</td>\n",
       "      <td>Winter</td>\n",
       "      <td>Calgary</td>\n",
       "      <td>Speed Skating</td>\n",
       "      <td>Thanks</td>\n",
       "      <td>1</td>\n",
       "      <td>2</td>\n",
       "    </tr>\n",
       "    <tr>\n",
       "      <th>...</th>\n",
       "      <td>...</td>\n",
       "      <td>...</td>\n",
       "      <td>...</td>\n",
       "      <td>...</td>\n",
       "      <td>...</td>\n",
       "      <td>...</td>\n",
       "      <td>...</td>\n",
       "      <td>...</td>\n",
       "    </tr>\n",
       "    <tr>\n",
       "      <th>4995</th>\n",
       "      <td>M</td>\n",
       "      <td>1992</td>\n",
       "      <td>Summer</td>\n",
       "      <td>Barcelona</td>\n",
       "      <td>Weightlifting</td>\n",
       "      <td>Thanks</td>\n",
       "      <td>1</td>\n",
       "      <td>1</td>\n",
       "    </tr>\n",
       "    <tr>\n",
       "      <th>4996</th>\n",
       "      <td>M</td>\n",
       "      <td>2000</td>\n",
       "      <td>Summer</td>\n",
       "      <td>Sydney</td>\n",
       "      <td>Swimming</td>\n",
       "      <td>Thanks</td>\n",
       "      <td>1</td>\n",
       "      <td>2</td>\n",
       "    </tr>\n",
       "    <tr>\n",
       "      <th>4997</th>\n",
       "      <td>M</td>\n",
       "      <td>1920</td>\n",
       "      <td>Summer</td>\n",
       "      <td>Antwerpen</td>\n",
       "      <td>Cycling</td>\n",
       "      <td>Thanks</td>\n",
       "      <td>1</td>\n",
       "      <td>2</td>\n",
       "    </tr>\n",
       "    <tr>\n",
       "      <th>4998</th>\n",
       "      <td>M</td>\n",
       "      <td>1972</td>\n",
       "      <td>Summer</td>\n",
       "      <td>Munich</td>\n",
       "      <td>Archery</td>\n",
       "      <td>Thanks</td>\n",
       "      <td>1</td>\n",
       "      <td>1</td>\n",
       "    </tr>\n",
       "    <tr>\n",
       "      <th>4999</th>\n",
       "      <td>M</td>\n",
       "      <td>1924</td>\n",
       "      <td>Summer</td>\n",
       "      <td>Paris</td>\n",
       "      <td>Wrestling</td>\n",
       "      <td>Thanks</td>\n",
       "      <td>1</td>\n",
       "      <td>1</td>\n",
       "    </tr>\n",
       "  </tbody>\n",
       "</table>\n",
       "<p>5000 rows × 8 columns</p>\n",
       "</div>"
      ],
      "text/plain": [
       "     Sex  Year  Season       City          Sport   Medal  AOS  AOE\n",
       "0      M  1992  Summer  Barcelona     Basketball  Thanks    1    1\n",
       "1      M  2012  Summer     London           Judo  Thanks    1    1\n",
       "2      M  1920  Summer  Antwerpen       Football  Thanks    1    1\n",
       "3      M  1900  Summer      Paris     Tug-Of-War    Gold    1    1\n",
       "4      F  1988  Winter    Calgary  Speed Skating  Thanks    1    2\n",
       "...   ..   ...     ...        ...            ...     ...  ...  ...\n",
       "4995   M  1992  Summer  Barcelona  Weightlifting  Thanks    1    1\n",
       "4996   M  2000  Summer     Sydney       Swimming  Thanks    1    2\n",
       "4997   M  1920  Summer  Antwerpen        Cycling  Thanks    1    2\n",
       "4998   M  1972  Summer     Munich        Archery  Thanks    1    1\n",
       "4999   M  1924  Summer      Paris      Wrestling  Thanks    1    1\n",
       "\n",
       "[5000 rows x 8 columns]"
      ]
     },
     "execution_count": 8,
     "metadata": {},
     "output_type": "execute_result"
    }
   ],
   "source": [
    "# df_category = df[['Sex', 'Team', 'NOC', 'Year', 'Season', 'City', 'Sport', 'Event', 'Medal', 'AOS', 'AOE', 'YearOfBirth']]\n",
    "# df_category = df[['Sex', 'Team', 'Year', 'City', 'Sport','AOE']]\n",
    "df_category = df[['Sex', 'Year', 'Season', 'City', 'Sport', 'Medal', 'AOS', 'AOE']]\n",
    "\n",
    "df_category"
   ]
  },
  {
   "cell_type": "markdown",
   "metadata": {},
   "source": [
    "## Normalization"
   ]
  },
  {
   "cell_type": "markdown",
   "metadata": {},
   "source": [
    "## One hot encoding/decoding"
   ]
  },
  {
   "cell_type": "code",
   "execution_count": 9,
   "metadata": {},
   "outputs": [],
   "source": [
    "def one_hot_encoding(df: pd.DataFrame):\n",
    "    cate_name = df.columns.to_numpy()\n",
    "    cate_class_number = []\n",
    "    cate_class = []\n",
    "    for i in range(df.columns.shape[0]):\n",
    "        cate_class.append(df.iloc[:, i].unique())\n",
    "        cate_class_number.append(df.iloc[:, i].nunique())\n",
    "    \n",
    "    for i in tqdm(range(df.columns.shape[0])):\n",
    "        df = pd.concat([df,pd.get_dummies(df[cate_name[i]], prefix=cate_name[i])],axis=1)\n",
    "        df = df.drop(columns=cate_name[i])\n",
    "    \n",
    "    return cate_name, cate_class_number, cate_class, df\n",
    "\n",
    "def one_hot_decoding(df:pd.DataFrame, prefix_sep=\"_\"):\n",
    "    cols2collapse = {\n",
    "        item.split(prefix_sep)[0]: (prefix_sep in item) for item in df.columns\n",
    "    }\n",
    "    series_list = []\n",
    "    for col, needs_to_collapse in cols2collapse.items():\n",
    "        if needs_to_collapse:\n",
    "            undummified = (\n",
    "                df.filter(like=col)\n",
    "                .idxmax(axis=1)\n",
    "                .apply(lambda x: x.split(prefix_sep, maxsplit=1)[1])\n",
    "                .rename(col)\n",
    "            )\n",
    "            series_list.append(undummified)\n",
    "        else:\n",
    "            series_list.append(df[col])\n",
    "    undummified_df = pd.concat(series_list, axis=1)\n",
    "    return undummified_df"
   ]
  },
  {
   "cell_type": "code",
   "execution_count": 10,
   "metadata": {
    "scrolled": false
   },
   "outputs": [
    {
     "data": {
      "application/vnd.jupyter.widget-view+json": {
       "model_id": "fee581199844452080058d584050f811",
       "version_major": 2,
       "version_minor": 0
      },
      "text/plain": [
       "  0%|          | 0/8 [00:00<?, ?it/s]"
      ]
     },
     "metadata": {},
     "output_type": "display_data"
    },
    {
     "data": {
      "text/html": [
       "<div>\n",
       "<style scoped>\n",
       "    .dataframe tbody tr th:only-of-type {\n",
       "        vertical-align: middle;\n",
       "    }\n",
       "\n",
       "    .dataframe tbody tr th {\n",
       "        vertical-align: top;\n",
       "    }\n",
       "\n",
       "    .dataframe thead th {\n",
       "        text-align: right;\n",
       "    }\n",
       "</style>\n",
       "<table border=\"1\" class=\"dataframe\">\n",
       "  <thead>\n",
       "    <tr style=\"text-align: right;\">\n",
       "      <th></th>\n",
       "      <th>Sex_F</th>\n",
       "      <th>Sex_M</th>\n",
       "      <th>Year_1896</th>\n",
       "      <th>Year_1900</th>\n",
       "      <th>Year_1904</th>\n",
       "      <th>Year_1906</th>\n",
       "      <th>Year_1908</th>\n",
       "      <th>Year_1912</th>\n",
       "      <th>Year_1920</th>\n",
       "      <th>Year_1924</th>\n",
       "      <th>...</th>\n",
       "      <th>AOS_3</th>\n",
       "      <th>AOE_1</th>\n",
       "      <th>AOE_2</th>\n",
       "      <th>AOE_3</th>\n",
       "      <th>AOE_4</th>\n",
       "      <th>AOE_5</th>\n",
       "      <th>AOE_6</th>\n",
       "      <th>AOE_7</th>\n",
       "      <th>AOE_8</th>\n",
       "      <th>AOE_9</th>\n",
       "    </tr>\n",
       "  </thead>\n",
       "  <tbody>\n",
       "    <tr>\n",
       "      <th>0</th>\n",
       "      <td>0</td>\n",
       "      <td>1</td>\n",
       "      <td>0</td>\n",
       "      <td>0</td>\n",
       "      <td>0</td>\n",
       "      <td>0</td>\n",
       "      <td>0</td>\n",
       "      <td>0</td>\n",
       "      <td>0</td>\n",
       "      <td>0</td>\n",
       "      <td>...</td>\n",
       "      <td>0</td>\n",
       "      <td>1</td>\n",
       "      <td>0</td>\n",
       "      <td>0</td>\n",
       "      <td>0</td>\n",
       "      <td>0</td>\n",
       "      <td>0</td>\n",
       "      <td>0</td>\n",
       "      <td>0</td>\n",
       "      <td>0</td>\n",
       "    </tr>\n",
       "    <tr>\n",
       "      <th>1</th>\n",
       "      <td>0</td>\n",
       "      <td>1</td>\n",
       "      <td>0</td>\n",
       "      <td>0</td>\n",
       "      <td>0</td>\n",
       "      <td>0</td>\n",
       "      <td>0</td>\n",
       "      <td>0</td>\n",
       "      <td>0</td>\n",
       "      <td>0</td>\n",
       "      <td>...</td>\n",
       "      <td>0</td>\n",
       "      <td>1</td>\n",
       "      <td>0</td>\n",
       "      <td>0</td>\n",
       "      <td>0</td>\n",
       "      <td>0</td>\n",
       "      <td>0</td>\n",
       "      <td>0</td>\n",
       "      <td>0</td>\n",
       "      <td>0</td>\n",
       "    </tr>\n",
       "    <tr>\n",
       "      <th>2</th>\n",
       "      <td>0</td>\n",
       "      <td>1</td>\n",
       "      <td>0</td>\n",
       "      <td>0</td>\n",
       "      <td>0</td>\n",
       "      <td>0</td>\n",
       "      <td>0</td>\n",
       "      <td>0</td>\n",
       "      <td>1</td>\n",
       "      <td>0</td>\n",
       "      <td>...</td>\n",
       "      <td>0</td>\n",
       "      <td>1</td>\n",
       "      <td>0</td>\n",
       "      <td>0</td>\n",
       "      <td>0</td>\n",
       "      <td>0</td>\n",
       "      <td>0</td>\n",
       "      <td>0</td>\n",
       "      <td>0</td>\n",
       "      <td>0</td>\n",
       "    </tr>\n",
       "    <tr>\n",
       "      <th>3</th>\n",
       "      <td>0</td>\n",
       "      <td>1</td>\n",
       "      <td>0</td>\n",
       "      <td>1</td>\n",
       "      <td>0</td>\n",
       "      <td>0</td>\n",
       "      <td>0</td>\n",
       "      <td>0</td>\n",
       "      <td>0</td>\n",
       "      <td>0</td>\n",
       "      <td>...</td>\n",
       "      <td>0</td>\n",
       "      <td>1</td>\n",
       "      <td>0</td>\n",
       "      <td>0</td>\n",
       "      <td>0</td>\n",
       "      <td>0</td>\n",
       "      <td>0</td>\n",
       "      <td>0</td>\n",
       "      <td>0</td>\n",
       "      <td>0</td>\n",
       "    </tr>\n",
       "    <tr>\n",
       "      <th>4</th>\n",
       "      <td>1</td>\n",
       "      <td>0</td>\n",
       "      <td>0</td>\n",
       "      <td>0</td>\n",
       "      <td>0</td>\n",
       "      <td>0</td>\n",
       "      <td>0</td>\n",
       "      <td>0</td>\n",
       "      <td>0</td>\n",
       "      <td>0</td>\n",
       "      <td>...</td>\n",
       "      <td>0</td>\n",
       "      <td>0</td>\n",
       "      <td>1</td>\n",
       "      <td>0</td>\n",
       "      <td>0</td>\n",
       "      <td>0</td>\n",
       "      <td>0</td>\n",
       "      <td>0</td>\n",
       "      <td>0</td>\n",
       "      <td>0</td>\n",
       "    </tr>\n",
       "    <tr>\n",
       "      <th>...</th>\n",
       "      <td>...</td>\n",
       "      <td>...</td>\n",
       "      <td>...</td>\n",
       "      <td>...</td>\n",
       "      <td>...</td>\n",
       "      <td>...</td>\n",
       "      <td>...</td>\n",
       "      <td>...</td>\n",
       "      <td>...</td>\n",
       "      <td>...</td>\n",
       "      <td>...</td>\n",
       "      <td>...</td>\n",
       "      <td>...</td>\n",
       "      <td>...</td>\n",
       "      <td>...</td>\n",
       "      <td>...</td>\n",
       "      <td>...</td>\n",
       "      <td>...</td>\n",
       "      <td>...</td>\n",
       "      <td>...</td>\n",
       "      <td>...</td>\n",
       "    </tr>\n",
       "    <tr>\n",
       "      <th>4995</th>\n",
       "      <td>0</td>\n",
       "      <td>1</td>\n",
       "      <td>0</td>\n",
       "      <td>0</td>\n",
       "      <td>0</td>\n",
       "      <td>0</td>\n",
       "      <td>0</td>\n",
       "      <td>0</td>\n",
       "      <td>0</td>\n",
       "      <td>0</td>\n",
       "      <td>...</td>\n",
       "      <td>0</td>\n",
       "      <td>1</td>\n",
       "      <td>0</td>\n",
       "      <td>0</td>\n",
       "      <td>0</td>\n",
       "      <td>0</td>\n",
       "      <td>0</td>\n",
       "      <td>0</td>\n",
       "      <td>0</td>\n",
       "      <td>0</td>\n",
       "    </tr>\n",
       "    <tr>\n",
       "      <th>4996</th>\n",
       "      <td>0</td>\n",
       "      <td>1</td>\n",
       "      <td>0</td>\n",
       "      <td>0</td>\n",
       "      <td>0</td>\n",
       "      <td>0</td>\n",
       "      <td>0</td>\n",
       "      <td>0</td>\n",
       "      <td>0</td>\n",
       "      <td>0</td>\n",
       "      <td>...</td>\n",
       "      <td>0</td>\n",
       "      <td>0</td>\n",
       "      <td>1</td>\n",
       "      <td>0</td>\n",
       "      <td>0</td>\n",
       "      <td>0</td>\n",
       "      <td>0</td>\n",
       "      <td>0</td>\n",
       "      <td>0</td>\n",
       "      <td>0</td>\n",
       "    </tr>\n",
       "    <tr>\n",
       "      <th>4997</th>\n",
       "      <td>0</td>\n",
       "      <td>1</td>\n",
       "      <td>0</td>\n",
       "      <td>0</td>\n",
       "      <td>0</td>\n",
       "      <td>0</td>\n",
       "      <td>0</td>\n",
       "      <td>0</td>\n",
       "      <td>1</td>\n",
       "      <td>0</td>\n",
       "      <td>...</td>\n",
       "      <td>0</td>\n",
       "      <td>0</td>\n",
       "      <td>1</td>\n",
       "      <td>0</td>\n",
       "      <td>0</td>\n",
       "      <td>0</td>\n",
       "      <td>0</td>\n",
       "      <td>0</td>\n",
       "      <td>0</td>\n",
       "      <td>0</td>\n",
       "    </tr>\n",
       "    <tr>\n",
       "      <th>4998</th>\n",
       "      <td>0</td>\n",
       "      <td>1</td>\n",
       "      <td>0</td>\n",
       "      <td>0</td>\n",
       "      <td>0</td>\n",
       "      <td>0</td>\n",
       "      <td>0</td>\n",
       "      <td>0</td>\n",
       "      <td>0</td>\n",
       "      <td>0</td>\n",
       "      <td>...</td>\n",
       "      <td>0</td>\n",
       "      <td>1</td>\n",
       "      <td>0</td>\n",
       "      <td>0</td>\n",
       "      <td>0</td>\n",
       "      <td>0</td>\n",
       "      <td>0</td>\n",
       "      <td>0</td>\n",
       "      <td>0</td>\n",
       "      <td>0</td>\n",
       "    </tr>\n",
       "    <tr>\n",
       "      <th>4999</th>\n",
       "      <td>0</td>\n",
       "      <td>1</td>\n",
       "      <td>0</td>\n",
       "      <td>0</td>\n",
       "      <td>0</td>\n",
       "      <td>0</td>\n",
       "      <td>0</td>\n",
       "      <td>0</td>\n",
       "      <td>0</td>\n",
       "      <td>1</td>\n",
       "      <td>...</td>\n",
       "      <td>0</td>\n",
       "      <td>1</td>\n",
       "      <td>0</td>\n",
       "      <td>0</td>\n",
       "      <td>0</td>\n",
       "      <td>0</td>\n",
       "      <td>0</td>\n",
       "      <td>0</td>\n",
       "      <td>0</td>\n",
       "      <td>0</td>\n",
       "    </tr>\n",
       "  </tbody>\n",
       "</table>\n",
       "<p>5000 rows × 153 columns</p>\n",
       "</div>"
      ],
      "text/plain": [
       "      Sex_F  Sex_M  Year_1896  Year_1900  Year_1904  Year_1906  Year_1908  \\\n",
       "0         0      1          0          0          0          0          0   \n",
       "1         0      1          0          0          0          0          0   \n",
       "2         0      1          0          0          0          0          0   \n",
       "3         0      1          0          1          0          0          0   \n",
       "4         1      0          0          0          0          0          0   \n",
       "...     ...    ...        ...        ...        ...        ...        ...   \n",
       "4995      0      1          0          0          0          0          0   \n",
       "4996      0      1          0          0          0          0          0   \n",
       "4997      0      1          0          0          0          0          0   \n",
       "4998      0      1          0          0          0          0          0   \n",
       "4999      0      1          0          0          0          0          0   \n",
       "\n",
       "      Year_1912  Year_1920  Year_1924  ...  AOS_3  AOE_1  AOE_2  AOE_3  AOE_4  \\\n",
       "0             0          0          0  ...      0      1      0      0      0   \n",
       "1             0          0          0  ...      0      1      0      0      0   \n",
       "2             0          1          0  ...      0      1      0      0      0   \n",
       "3             0          0          0  ...      0      1      0      0      0   \n",
       "4             0          0          0  ...      0      0      1      0      0   \n",
       "...         ...        ...        ...  ...    ...    ...    ...    ...    ...   \n",
       "4995          0          0          0  ...      0      1      0      0      0   \n",
       "4996          0          0          0  ...      0      0      1      0      0   \n",
       "4997          0          1          0  ...      0      0      1      0      0   \n",
       "4998          0          0          0  ...      0      1      0      0      0   \n",
       "4999          0          0          1  ...      0      1      0      0      0   \n",
       "\n",
       "      AOE_5  AOE_6  AOE_7  AOE_8  AOE_9  \n",
       "0         0      0      0      0      0  \n",
       "1         0      0      0      0      0  \n",
       "2         0      0      0      0      0  \n",
       "3         0      0      0      0      0  \n",
       "4         0      0      0      0      0  \n",
       "...     ...    ...    ...    ...    ...  \n",
       "4995      0      0      0      0      0  \n",
       "4996      0      0      0      0      0  \n",
       "4997      0      0      0      0      0  \n",
       "4998      0      0      0      0      0  \n",
       "4999      0      0      0      0      0  \n",
       "\n",
       "[5000 rows x 153 columns]"
      ]
     },
     "execution_count": 10,
     "metadata": {},
     "output_type": "execute_result"
    }
   ],
   "source": [
    "cate_name, cate_class_number, cate_class, df_category_ohe = one_hot_encoding(df_category)\n",
    "df_category_ohe"
   ]
  },
  {
   "cell_type": "markdown",
   "metadata": {},
   "source": [
    "## Reshape data to 4d array"
   ]
  },
  {
   "cell_type": "code",
   "execution_count": 11,
   "metadata": {},
   "outputs": [
    {
     "data": {
      "text/plain": [
       "(5000, 1, 1, 153)"
      ]
     },
     "execution_count": 11,
     "metadata": {},
     "output_type": "execute_result"
    }
   ],
   "source": [
    "df_length = len(df_category_ohe.columns)\n",
    "input_data = df_category_ohe.to_numpy().flatten().reshape(-1, 1, 1, df_length)\n",
    "input_data.shape"
   ]
  },
  {
   "cell_type": "markdown",
   "metadata": {},
   "source": [
    "# Build PyTorch Dataset"
   ]
  },
  {
   "cell_type": "markdown",
   "metadata": {},
   "source": [
    "## Dataset class"
   ]
  },
  {
   "cell_type": "code",
   "execution_count": 12,
   "metadata": {},
   "outputs": [],
   "source": [
    "class OlympicDataset(Dataset):\n",
    "    \n",
    "    def __init__(self, data: pd.DataFrame, transform=None):\n",
    "        self.data = torch.from_numpy(data).float()\n",
    "        \n",
    "    def __len__(self):\n",
    "        return len(self.data)\n",
    "    \n",
    "    \n",
    "    def __getitem__(self, idx):\n",
    "        data_content = self.data[idx]\n",
    "        return data_content"
   ]
  },
  {
   "cell_type": "markdown",
   "metadata": {},
   "source": [
    "## Pytorch Normalization"
   ]
  },
  {
   "cell_type": "code",
   "execution_count": 13,
   "metadata": {},
   "outputs": [],
   "source": [
    "# loader_all = DataLoader(input_data, batch_size=len(input_data), num_workers=1)\n",
    "# data = next(iter(loader_all))\n",
    "# mean = float(data.mean().detach().numpy())\n",
    "# std = float(data.std().detach().numpy())"
   ]
  },
  {
   "cell_type": "code",
   "execution_count": 14,
   "metadata": {},
   "outputs": [],
   "source": [
    "# transforms = transforms.Compose(\n",
    "#     [transforms.ToTensor(), transforms.Normalize(mean, std)]\n",
    "# )\n",
    "\n",
    "transforms = transforms.Compose(\n",
    "    [transforms.ToTensor()]\n",
    ")"
   ]
  },
  {
   "cell_type": "markdown",
   "metadata": {},
   "source": [
    "# Build GAN"
   ]
  },
  {
   "cell_type": "markdown",
   "metadata": {},
   "source": [
    "## Hyperparameters"
   ]
  },
  {
   "cell_type": "code",
   "execution_count": 15,
   "metadata": {},
   "outputs": [],
   "source": [
    "# # Hyperparameters etc.\n",
    "# device = \"cuda\" if torch.cuda.is_available() else \"cpu\"\n",
    "# lr = 3e-4\n",
    "# z_dim = 64 # 128, 256\n",
    "# # image_dim = 5 * 5 * 1  # 25\n",
    "# # image_dim = square_length * square_length * 1\n",
    "# image_dim = 1 * df_length * 1\n",
    "\n",
    "# batch_size = 32\n",
    "# num_epochs = 50\n",
    "\n",
    "# fixed_noise = torch.randn((batch_size, z_dim)).to(device)"
   ]
  },
  {
   "cell_type": "code",
   "execution_count": null,
   "metadata": {},
   "outputs": [],
   "source": []
  },
  {
   "cell_type": "markdown",
   "metadata": {},
   "source": [
    "## Dataset and DataLoader"
   ]
  },
  {
   "cell_type": "code",
   "execution_count": null,
   "metadata": {},
   "outputs": [],
   "source": []
  },
  {
   "cell_type": "markdown",
   "metadata": {},
   "source": [
    "## Discriminator"
   ]
  },
  {
   "cell_type": "code",
   "execution_count": 16,
   "metadata": {},
   "outputs": [],
   "source": [
    "# stored parameter\n",
    "\n",
    "# nn.Linear(in_features, 128),\n",
    "# nn.LeakyReLU(0.2),\n",
    "# nn.Dropout(0.5), \n",
    "# nn.Linear(128, 1),\n",
    "# nn.Sigmoid(),"
   ]
  },
  {
   "cell_type": "code",
   "execution_count": null,
   "metadata": {},
   "outputs": [],
   "source": []
  },
  {
   "cell_type": "code",
   "execution_count": 17,
   "metadata": {},
   "outputs": [],
   "source": [
    "# class Discriminator(nn.Module):\n",
    "#     def __init__(self, in_features):\n",
    "#         super().__init__()\n",
    "#         # Simple CNN\n",
    "#         self.conv1 = nn.Conv2d(1, 10, kernel_size=5)\n",
    "#         self.conv2 = nn.Conv2d(10, 20, kernel_size=5)\n",
    "#         self.conv2_drop = nn.Dropout2d()\n",
    "#         self.fc1 = nn.Linear(320, 50)\n",
    "#         self.fc2 = nn.Linear(50, 1)\n",
    "\n",
    "#     def forward(self, x):\n",
    "#         x = F.relu(F.max_pool2d(self.conv1(x), 2))\n",
    "#         x = F.relu(F.max_pool2d(self.conv2_drop(self.conv2(x)), 2))\n",
    "#         # Flatten the tensor so it can be fed into the FC layers\n",
    "#         x = x.view(-1, 320)\n",
    "#         x = F.relu(self.fc1(x))\n",
    "#         x = F.dropout(x, training=self.training)\n",
    "#         x = self.fc2(x)\n",
    "#         return F.sigmoid(x)\n",
    "#         # return torch.sigmoid(x)\n",
    "\n",
    "# disc = Discriminator(image_dim).to(device)"
   ]
  },
  {
   "cell_type": "markdown",
   "metadata": {},
   "source": [
    "## Generator"
   ]
  },
  {
   "cell_type": "code",
   "execution_count": 18,
   "metadata": {},
   "outputs": [],
   "source": [
    "# stored parameter\n",
    "\n",
    "# nn.Linear(z_dim, 256),\n",
    "# nn.LeakyReLU(0.3), \n",
    "# nn.Linear(256, img_dim),"
   ]
  },
  {
   "cell_type": "code",
   "execution_count": null,
   "metadata": {},
   "outputs": [],
   "source": []
  },
  {
   "cell_type": "code",
   "execution_count": 19,
   "metadata": {},
   "outputs": [],
   "source": [
    "# class Generator(nn.Module):\n",
    "#     def __init__(self, latent_dim, img_dim):\n",
    "#         super().__init__()\n",
    "#         self.lin1 = nn.Linear(latent_dim, 7*7*64)   # [n, 256, 7, 7]\n",
    "#         self.ct1 = nn.ConvTranspose2d(64, 32, 4, stride=2)  # [n, 64, 16, 16]\n",
    "#         self.ct2 = nn.ConvTranspose2d(32, 16, 4, stride=2)  # [n, 16, 34, 34]\n",
    "#         self.conv = nn.Conv2d(16, 1, kernel_size=7)     # [n, 1, 28, 28]\n",
    "\n",
    "#     def forward(self, x):\n",
    "#         # Pass latent space input into linear layer and reshape\n",
    "#         x = self.lin1(x)\n",
    "#         x = F.relu(x)\n",
    "#         x = x.view(-1, 64, 7, 7)\n",
    "\n",
    "#         # Upsample (transposed conv) 16x16 (64 feature maps)\n",
    "#         # Transposed convolution to 16x16 (64 feature maps)\n",
    "#         x = self.ct1(x)\n",
    "#         x = F.relu(x)\n",
    "        \n",
    "#         # Upsample to 34x34 (16 feature maps)\n",
    "#         # Transposed convolution to 34x34 (16 feature maps)\n",
    "#         x = self.ct2(x)\n",
    "#         x = F.relu(x)\n",
    "        \n",
    "#         # Convolution to 28x28 (1 feature map)\n",
    "#         return self.conv(x)\n",
    "    \n",
    "# gen = Generator(z_dim, image_dim).to(device)"
   ]
  },
  {
   "cell_type": "markdown",
   "metadata": {},
   "source": [
    "## Optimizer"
   ]
  },
  {
   "cell_type": "code",
   "execution_count": null,
   "metadata": {},
   "outputs": [],
   "source": []
  },
  {
   "cell_type": "markdown",
   "metadata": {},
   "source": [
    "## Tensorboard"
   ]
  },
  {
   "cell_type": "code",
   "execution_count": 20,
   "metadata": {
    "scrolled": false
   },
   "outputs": [],
   "source": [
    "# writer_fake = SummaryWriter(f\"logs/fake\")\n",
    "# writer_real = SummaryWriter(f\"logs/real\")"
   ]
  },
  {
   "cell_type": "markdown",
   "metadata": {},
   "source": [
    "# Train/Test"
   ]
  },
  {
   "cell_type": "code",
   "execution_count": null,
   "metadata": {
    "scrolled": false
   },
   "outputs": [],
   "source": []
  },
  {
   "cell_type": "markdown",
   "metadata": {},
   "source": [
    "# Generate synthetic output"
   ]
  },
  {
   "cell_type": "markdown",
   "metadata": {},
   "source": [
    "## Continuous data"
   ]
  },
  {
   "cell_type": "markdown",
   "metadata": {},
   "source": [
    "## Categorical data"
   ]
  },
  {
   "cell_type": "code",
   "execution_count": null,
   "metadata": {},
   "outputs": [],
   "source": []
  },
  {
   "cell_type": "code",
   "execution_count": null,
   "metadata": {},
   "outputs": [],
   "source": []
  },
  {
   "cell_type": "code",
   "execution_count": null,
   "metadata": {
    "scrolled": false
   },
   "outputs": [],
   "source": []
  },
  {
   "cell_type": "code",
   "execution_count": null,
   "metadata": {},
   "outputs": [],
   "source": []
  },
  {
   "cell_type": "code",
   "execution_count": null,
   "metadata": {},
   "outputs": [],
   "source": []
  },
  {
   "cell_type": "markdown",
   "metadata": {},
   "source": [
    "# Visualization"
   ]
  },
  {
   "cell_type": "markdown",
   "metadata": {},
   "source": [
    "## Draw columns"
   ]
  },
  {
   "cell_type": "code",
   "execution_count": null,
   "metadata": {},
   "outputs": [],
   "source": []
  },
  {
   "cell_type": "code",
   "execution_count": null,
   "metadata": {
    "scrolled": true
   },
   "outputs": [],
   "source": []
  },
  {
   "cell_type": "code",
   "execution_count": null,
   "metadata": {},
   "outputs": [],
   "source": []
  },
  {
   "cell_type": "code",
   "execution_count": 21,
   "metadata": {},
   "outputs": [],
   "source": [
    "# my_report.get_details(property_name='Column Shapes')"
   ]
  },
  {
   "cell_type": "code",
   "execution_count": 22,
   "metadata": {},
   "outputs": [],
   "source": [
    "# get_column_plot(\n",
    "#     real_data=df_real,\n",
    "#     synthetic_data=df_fake,\n",
    "#     metadata=metadata,\n",
    "#     column_name='Age'\n",
    "# )"
   ]
  },
  {
   "cell_type": "code",
   "execution_count": 23,
   "metadata": {},
   "outputs": [],
   "source": [
    "# get_column_plot(\n",
    "#     real_data=df_real,\n",
    "#     synthetic_data=df_fake,\n",
    "#     metadata=metadata,\n",
    "#     column_name='Height'\n",
    "# )"
   ]
  },
  {
   "cell_type": "code",
   "execution_count": 24,
   "metadata": {},
   "outputs": [],
   "source": [
    "# get_column_plot(\n",
    "#     real_data=df_real,\n",
    "#     synthetic_data=df_fake,\n",
    "#     metadata=metadata,\n",
    "#     column_name='Weight'\n",
    "# )"
   ]
  },
  {
   "cell_type": "code",
   "execution_count": null,
   "metadata": {
    "scrolled": false
   },
   "outputs": [],
   "source": [
    "get_column_plot(\n",
    "    real_data=df_real,\n",
    "    synthetic_data=df_fake,\n",
    "    metadata=metadata,\n",
    "    column_name='Sex'\n",
    ")"
   ]
  },
  {
   "cell_type": "code",
   "execution_count": null,
   "metadata": {},
   "outputs": [],
   "source": [
    "get_column_plot(\n",
    "    real_data=df_real,\n",
    "    synthetic_data=df_fake,\n",
    "    metadata=metadata,\n",
    "    column_name='Year'\n",
    ")"
   ]
  },
  {
   "cell_type": "code",
   "execution_count": null,
   "metadata": {},
   "outputs": [],
   "source": [
    "get_column_plot(\n",
    "    real_data=df_real,\n",
    "    synthetic_data=df_fake,\n",
    "    metadata=metadata,\n",
    "    column_name='Season'\n",
    ")"
   ]
  },
  {
   "cell_type": "code",
   "execution_count": null,
   "metadata": {},
   "outputs": [],
   "source": [
    "get_column_plot(\n",
    "    real_data=df_real,\n",
    "    synthetic_data=df_fake,\n",
    "    metadata=metadata,\n",
    "    column_name='City'\n",
    ")"
   ]
  },
  {
   "cell_type": "code",
   "execution_count": null,
   "metadata": {},
   "outputs": [],
   "source": [
    "get_column_plot(\n",
    "    real_data=df_real,\n",
    "    synthetic_data=df_fake,\n",
    "    metadata=metadata,\n",
    "    column_name='Sport'\n",
    ")"
   ]
  },
  {
   "cell_type": "code",
   "execution_count": null,
   "metadata": {},
   "outputs": [],
   "source": [
    "get_column_plot(\n",
    "    real_data=df_real,\n",
    "    synthetic_data=df_fake,\n",
    "    metadata=metadata,\n",
    "    column_name='Medal'\n",
    ")"
   ]
  },
  {
   "cell_type": "code",
   "execution_count": null,
   "metadata": {},
   "outputs": [],
   "source": [
    "get_column_plot(\n",
    "    real_data=df_real,\n",
    "    synthetic_data=df_fake,\n",
    "    metadata=metadata,\n",
    "    column_name='AOS'\n",
    ")"
   ]
  },
  {
   "cell_type": "code",
   "execution_count": null,
   "metadata": {
    "scrolled": false
   },
   "outputs": [],
   "source": [
    "get_column_plot(\n",
    "    real_data=df_real,\n",
    "    synthetic_data=df_fake,\n",
    "    metadata=metadata,\n",
    "    column_name='AOE'\n",
    ")"
   ]
  },
  {
   "cell_type": "code",
   "execution_count": null,
   "metadata": {},
   "outputs": [],
   "source": [
    "# fig = my_report.get_visualization(property_name='Column Shapes')\n",
    "# fig.show()"
   ]
  },
  {
   "cell_type": "markdown",
   "metadata": {},
   "source": [
    "## Draw relationship"
   ]
  },
  {
   "cell_type": "code",
   "execution_count": null,
   "metadata": {},
   "outputs": [],
   "source": [
    "# sns.set_theme(style=\"dark\")"
   ]
  },
  {
   "cell_type": "code",
   "execution_count": null,
   "metadata": {},
   "outputs": [],
   "source": [
    "# x = df_real.Height.to_numpy()\n",
    "# y = df_real.Weight.to_numpy()\n",
    "\n",
    "# # Draw a combo histogram and scatterplot with density contours\n",
    "# f, ax = plt.subplots(figsize=(6, 6))\n",
    "# ax.set(ylim=(25, 200))\n",
    "# ax.set(xlim=(120, 240))\n",
    "# ax.set_title('Height vs Weight',\n",
    "#              fontweight =\"bold\")\n",
    "# ax.set_xlabel('Height')\n",
    "# ax.set_ylabel('Weight')\n",
    "\n",
    "\n",
    "# sns.scatterplot(x=x, y=y, s=5, color=\".15\")\n",
    "# sns.histplot(x=x, y=y, bins=50, pthresh=.1, cmap=\"mako\")\n",
    "# sns.kdeplot(x=x, y=y, levels=5, color=\"w\", linewidths=1)\n"
   ]
  },
  {
   "cell_type": "code",
   "execution_count": null,
   "metadata": {},
   "outputs": [],
   "source": [
    "# xp = df_fake.Height.to_numpy()\n",
    "# yp = df_fake.Weight.to_numpy()\n",
    "\n",
    "# # Draw a combo histogram and scatterplot with density contours\n",
    "# f, ax = plt.subplots(figsize=(6, 6))\n",
    "# ax.set(ylim=(25, 200))\n",
    "# ax.set(xlim=(120, 240))\n",
    "# ax.set_title('Height vs Weight',\n",
    "#              fontweight =\"bold\")\n",
    "# ax.set_xlabel('Height')\n",
    "# ax.set_ylabel('Weight')\n",
    "\n",
    "# sns.scatterplot(x=xp, y=yp, s=5, color=\".15\")\n",
    "# sns.histplot(x=xp, y=yp, bins=50, pthresh=.1, cmap=\"mako\")\n",
    "# sns.kdeplot(x=xp, y=yp, levels=5, color=\"w\", linewidths=1)\n"
   ]
  },
  {
   "cell_type": "code",
   "execution_count": null,
   "metadata": {},
   "outputs": [],
   "source": []
  },
  {
   "cell_type": "code",
   "execution_count": null,
   "metadata": {},
   "outputs": [],
   "source": []
  },
  {
   "cell_type": "code",
   "execution_count": null,
   "metadata": {},
   "outputs": [],
   "source": []
  },
  {
   "cell_type": "code",
   "execution_count": null,
   "metadata": {},
   "outputs": [],
   "source": []
  },
  {
   "cell_type": "code",
   "execution_count": null,
   "metadata": {},
   "outputs": [],
   "source": []
  },
  {
   "cell_type": "code",
   "execution_count": null,
   "metadata": {},
   "outputs": [],
   "source": []
  },
  {
   "cell_type": "markdown",
   "metadata": {},
   "source": [
    "# Grid Search"
   ]
  },
  {
   "cell_type": "code",
   "execution_count": 77,
   "metadata": {},
   "outputs": [],
   "source": [
    "def train_test_evaluate(lr, negative_slope_G, negative_slope_D, dropout_probability):\n",
    "    # Hyperparameters etc.\n",
    "    device = \"cuda\" if torch.cuda.is_available() else \"cpu\"\n",
    "    z_dim = 64 # 128, 256\n",
    "    image_dim = 1 * df_length * 1\n",
    "    batch_size = 32\n",
    "    num_epochs = 50\n",
    "\n",
    "\n",
    "    fixed_noise = torch.randn((batch_size, z_dim)).to(device)\n",
    "\n",
    "\n",
    "    dataset = OlympicDataset(input_data, transform=transforms)\n",
    "    loader = DataLoader(dataset, batch_size=batch_size, shuffle=True)\n",
    "\n",
    "\n",
    "    class Discriminator(nn.Module):\n",
    "        def __init__(self, in_features):\n",
    "            super().__init__()\n",
    "            self.disc = nn.Sequential(\n",
    "                nn.Linear(in_features, 128),\n",
    "                nn.LeakyReLU(negative_slope_D),\n",
    "                nn.Dropout(dropout_probability), \n",
    "                nn.Linear(128, 1),\n",
    "                nn.Sigmoid(),\n",
    "            )\n",
    "\n",
    "        def forward(self, x):\n",
    "            return self.disc(x)\n",
    "\n",
    "    disc = Discriminator(image_dim).to(device)\n",
    "\n",
    "\n",
    "    class Generator(nn.Module):\n",
    "        def __init__(self, z_dim, img_dim):\n",
    "            super().__init__()\n",
    "            self.gen = nn.Sequential(\n",
    "                nn.Linear(z_dim, 256),\n",
    "                nn.LeakyReLU(negative_slope_G), \n",
    "                nn.Linear(256, img_dim),\n",
    "            )\n",
    "\n",
    "        def forward(self, x):\n",
    "            return self.gen(x)\n",
    "\n",
    "    gen = Generator(z_dim, image_dim).to(device)\n",
    "\n",
    "\n",
    "    opt_disc = optim.Adam(disc.parameters(), lr=lr)\n",
    "    opt_gen = optim.Adam(gen.parameters(), lr=lr)\n",
    "    criterion = nn.BCELoss()\n",
    "\n",
    "\n",
    "    step = 0\n",
    "#     print('Training process:')\n",
    "#     for epoch in tqdm(range(num_epochs)):\n",
    "    for epoch in range(num_epochs):\n",
    "        for batch_idx, real in enumerate(loader):\n",
    "\n",
    "            real = real.view(-1, 1*df_length).to(device)\n",
    "            batch_size = real.shape[0]\n",
    "\n",
    "            noise = torch.randn(batch_size, z_dim).to(device)\n",
    "            fake = gen(noise)\n",
    "            disc_real = disc(real).view(-1)\n",
    "            lossD_real = criterion(disc_real, torch.ones_like(disc_real))\n",
    "            disc_fake = disc(fake).view(-1)\n",
    "            lossD_fake = criterion(disc_fake, torch.zeros_like(disc_fake))\n",
    "            lossD = (lossD_real + lossD_fake) / 2\n",
    "            disc.zero_grad()\n",
    "            lossD.backward(retain_graph=True)\n",
    "            opt_disc.step()\n",
    "\n",
    "            ### Train Generator: min log(1 - D(G(z))) <-> max log(D(G(z))\n",
    "            # where the second option of maximizing doesn't suffer from\n",
    "            # saturating gradients\n",
    "            output = disc(fake).view(-1)\n",
    "            lossG = criterion(output, torch.ones_like(output))\n",
    "            gen.zero_grad()\n",
    "            lossG.backward()\n",
    "            opt_gen.step()\n",
    "\n",
    "            if batch_idx == 0:\n",
    "#                 print(\n",
    "#                     f\"Epoch [{epoch}/{num_epochs}] Batch {batch_idx}/{len(loader)} \\\n",
    "#                           Loss D: {lossD:.4f}, loss G: {lossG:.4f}\"\n",
    "#                 )\n",
    "\n",
    "                with torch.no_grad():\n",
    "                    fake = gen(fixed_noise).reshape(-1, 1, 1, df_length)\n",
    "                    data = real.reshape(-1, 1, 1, df_length)\n",
    "\n",
    "                    img_grid_fake = torchvision.utils.make_grid(fake, normalize=True)\n",
    "                    img_grid_real = torchvision.utils.make_grid(data, normalize=True)\n",
    "\n",
    "                    step += 1\n",
    "\n",
    "\n",
    "    fake_df = pd.DataFrame(fake.flatten().reshape(-1, df_length).detach().numpy())\n",
    "    fake_df = fake_df.rename(columns = {i: df_category_ohe.columns[i] for i in range(df_category_ohe.columns.shape[0])})\n",
    "    final = fake_df.astype('category')\n",
    "\n",
    "\n",
    "    df_real = df[np.append('ID', df_category.columns.to_numpy())].astype('category')\n",
    "\n",
    "    \n",
    "#     print('Generating process:')\n",
    "#     for i in tqdm(range(len(df_real)//len(final) + 1)):\n",
    "    for i in range(len(df_real)//len(final) + 1):\n",
    "        noise = torch.randn(batch_size, z_dim).to(device)\n",
    "        fake = gen(noise)\n",
    "        fake_df = pd.DataFrame(fake.flatten().reshape(-1, df_length).detach().numpy())\n",
    "        fake_df = fake_df.rename(columns = {i: df_category_ohe.columns[i] for i in range(df_category_ohe.columns.shape[0])})\n",
    "        demo = fake_df\n",
    "        final = pd.concat([final, demo]).reset_index(drop=True)\n",
    "    df_fake = final.reset_index().rename(columns={'index': 'ID'}).iloc[0:len(df_real), :].astype('category')\n",
    "    df_fake = one_hot_decoding(df_fake)\n",
    "\n",
    "\n",
    "    metadata = Metadata()\n",
    "    metadata.add_table(name='olympic',\n",
    "                      data=df_real,\n",
    "                      primary_key = 'ID')\n",
    "    metadata = metadata.get_table_meta('olympic')\n",
    "    my_report = QualityReport()\n",
    "    my_report.generate(df_real, df_fake, metadata)\n",
    "    score = my_report.get_score()\n",
    "    \n",
    "    property_df = my_report.get_properties()\n",
    "    shape_score = property_df[property_df.Property == 'Column Shapes'].Score[0]\n",
    "    trend_score = property_df[property_df.Property == 'Column Pair Trends'].Score[1]\n",
    "\n",
    "    return score, shape_score, trend_score"
   ]
  },
  {
   "cell_type": "code",
   "execution_count": 78,
   "metadata": {},
   "outputs": [],
   "source": [
    "# lr = 3e-4\n",
    "# negative_slope_G = 0.5\n",
    "# negative_slope_D = 0.2\n",
    "# dropout_probability = 0.8\n",
    "\n",
    "# score = train_test_evaluate(lr, negative_slope_G, negative_slope_D, dropout_probability)"
   ]
  },
  {
   "cell_type": "code",
   "execution_count": 79,
   "metadata": {},
   "outputs": [],
   "source": [
    "# lr_list = [1e-2, 1e-3, 1e-4, 1e-5, 1e-6, 1e-7]\n",
    "# negative_slope_list = [0.01, 0.1, 0.3, 0.6, 1]\n",
    "# dropout_probability_list = [0, 0.01, 0.1, 0.3, 0.6, 0.8]"
   ]
  },
  {
   "cell_type": "code",
   "execution_count": 80,
   "metadata": {
    "scrolled": false
   },
   "outputs": [],
   "source": [
    "# scores = []\n",
    "# lrs = []\n",
    "# negative_slopes_G = []\n",
    "# negative_slopes_D = []\n",
    "# dropout_probabilities = []\n",
    "\n",
    "# for lr in tqdm(lr_list):\n",
    "#     for negative_slope_G in tqdm(negative_slope_list):\n",
    "#         for negative_slope_D in tqdm(negative_slope_list):\n",
    "#             for dropout_probability in tqdm(dropout_probability_list):\n",
    "#                 score = train_test_evaluate(lr, negative_slope_G, negative_slope_D, dropout_probability)\n",
    "#                 scores.append(score)\n",
    "#                 lrs.append(lr)\n",
    "#                 negative_slopes_G.append(negative_slope_G)\n",
    "#                 negative_slopes_D.append(negative_slope_D)\n",
    "#                 dropout_probabilities.append(dropout_probability)"
   ]
  },
  {
   "cell_type": "code",
   "execution_count": 81,
   "metadata": {},
   "outputs": [],
   "source": [
    "lr_list = [1e-2, 1e-3, 1e-4, 1e-5, 1e-6]\n",
    "negative_slope_list = [0.01, 0.1, 0.3, 0.6, 1]\n",
    "dropout_probability_list = [0, 0.01, 0.1, 0.3, 0.6, 0.8]"
   ]
  },
  {
   "cell_type": "code",
   "execution_count": 82,
   "metadata": {
    "scrolled": false
   },
   "outputs": [
    {
     "data": {
      "application/vnd.jupyter.widget-view+json": {
       "model_id": "8fc7fe8ad97b453db89fc1a1dabca1a3",
       "version_major": 2,
       "version_minor": 0
      },
      "text/plain": [
       "  0%|          | 0/5 [00:00<?, ?it/s]"
      ]
     },
     "metadata": {},
     "output_type": "display_data"
    },
    {
     "data": {
      "application/vnd.jupyter.widget-view+json": {
       "model_id": "f40ee847de2e4129aa2ff4ab6b008c9f",
       "version_major": 2,
       "version_minor": 0
      },
      "text/plain": [
       "  0%|          | 0/5 [00:00<?, ?it/s]"
      ]
     },
     "metadata": {},
     "output_type": "display_data"
    },
    {
     "name": "stderr",
     "output_type": "stream",
     "text": [
      "\n",
      "\n",
      "Creating report:   0%|                                    | 0/4 [00:00<?, ?it/s]\u001b[A\u001b[A\n",
      "\n",
      "Creating report: 100%|████████████████████████████| 4/4 [00:00<00:00,  4.89it/s]\u001b[A\u001b[A\n"
     ]
    },
    {
     "name": "stdout",
     "output_type": "stream",
     "text": [
      "\n",
      "Overall Quality Score: 32.79%\n",
      "\n",
      "Properties:\n",
      "Column Shapes: 35.63%\n",
      "Column Pair Trends: 29.95%\n"
     ]
    },
    {
     "name": "stderr",
     "output_type": "stream",
     "text": [
      "\n",
      "\n",
      "Creating report:   0%|                                    | 0/4 [00:00<?, ?it/s]\u001b[A\u001b[A\n",
      "\n",
      "Creating report: 100%|████████████████████████████| 4/4 [00:00<00:00,  5.02it/s]\u001b[A\u001b[A\n"
     ]
    },
    {
     "name": "stdout",
     "output_type": "stream",
     "text": [
      "\n",
      "Overall Quality Score: 24.14%\n",
      "\n",
      "Properties:\n",
      "Column Shapes: 27.98%\n",
      "Column Pair Trends: 20.3%\n"
     ]
    },
    {
     "name": "stderr",
     "output_type": "stream",
     "text": [
      "\n",
      "\n",
      "Creating report:   0%|                                    | 0/4 [00:00<?, ?it/s]\u001b[A\u001b[A\n",
      "\n",
      "Creating report: 100%|████████████████████████████| 4/4 [00:00<00:00,  4.72it/s]\u001b[A\u001b[A\n"
     ]
    },
    {
     "name": "stdout",
     "output_type": "stream",
     "text": [
      "\n",
      "Overall Quality Score: 25.64%\n",
      "\n",
      "Properties:\n",
      "Column Shapes: 31.95%\n",
      "Column Pair Trends: 19.33%\n"
     ]
    },
    {
     "name": "stderr",
     "output_type": "stream",
     "text": [
      "\n",
      "\n",
      "Creating report:   0%|                                    | 0/4 [00:00<?, ?it/s]\u001b[A\u001b[A\n",
      "\n",
      "Creating report: 100%|████████████████████████████| 4/4 [00:00<00:00,  4.97it/s]\u001b[A\u001b[A\n"
     ]
    },
    {
     "name": "stdout",
     "output_type": "stream",
     "text": [
      "\n",
      "Overall Quality Score: 22.41%\n",
      "\n",
      "Properties:\n",
      "Column Shapes: 31.01%\n",
      "Column Pair Trends: 13.8%\n"
     ]
    },
    {
     "name": "stderr",
     "output_type": "stream",
     "text": [
      "\n",
      "\n",
      "Creating report:   0%|                                    | 0/4 [00:00<?, ?it/s]\u001b[A\u001b[A\n",
      "\n",
      "Creating report: 100%|████████████████████████████| 4/4 [00:00<00:00,  5.07it/s]\u001b[A\u001b[A"
     ]
    },
    {
     "name": "stdout",
     "output_type": "stream",
     "text": [
      "\n",
      "Overall Quality Score: 27.53%\n",
      "\n",
      "Properties:\n",
      "Column Shapes: 37.37%\n",
      "Column Pair Trends: 17.7%\n"
     ]
    },
    {
     "name": "stderr",
     "output_type": "stream",
     "text": [
      "\n"
     ]
    },
    {
     "data": {
      "application/vnd.jupyter.widget-view+json": {
       "model_id": "1f92209b398145e78125b0dfab533322",
       "version_major": 2,
       "version_minor": 0
      },
      "text/plain": [
       "  0%|          | 0/5 [00:00<?, ?it/s]"
      ]
     },
     "metadata": {},
     "output_type": "display_data"
    },
    {
     "name": "stderr",
     "output_type": "stream",
     "text": [
      "\n",
      "\n",
      "Creating report:   0%|                                    | 0/4 [00:00<?, ?it/s]\u001b[A\u001b[A\n",
      "\n",
      "Creating report: 100%|████████████████████████████| 4/4 [00:00<00:00,  4.30it/s]\u001b[A\u001b[A\n"
     ]
    },
    {
     "name": "stdout",
     "output_type": "stream",
     "text": [
      "\n",
      "Overall Quality Score: 42.22%\n",
      "\n",
      "Properties:\n",
      "Column Shapes: 39.42%\n",
      "Column Pair Trends: 45.03%\n"
     ]
    },
    {
     "name": "stderr",
     "output_type": "stream",
     "text": [
      "\n",
      "\n",
      "Creating report:   0%|                                    | 0/4 [00:00<?, ?it/s]\u001b[A\u001b[A\n",
      "\n",
      "Creating report: 100%|████████████████████████████| 4/4 [00:00<00:00,  4.24it/s]\u001b[A\u001b[A\n"
     ]
    },
    {
     "name": "stdout",
     "output_type": "stream",
     "text": [
      "\n",
      "Overall Quality Score: 42.09%\n",
      "\n",
      "Properties:\n",
      "Column Shapes: 40.78%\n",
      "Column Pair Trends: 43.4%\n"
     ]
    },
    {
     "name": "stderr",
     "output_type": "stream",
     "text": [
      "\n",
      "\n",
      "Creating report:   0%|                                    | 0/4 [00:00<?, ?it/s]\u001b[A\u001b[A\n",
      "\n",
      "Creating report: 100%|████████████████████████████| 4/4 [00:01<00:00,  3.89it/s]\u001b[A\u001b[A\n"
     ]
    },
    {
     "name": "stdout",
     "output_type": "stream",
     "text": [
      "\n",
      "Overall Quality Score: 36.42%\n",
      "\n",
      "Properties:\n",
      "Column Shapes: 38.14%\n",
      "Column Pair Trends: 34.71%\n"
     ]
    },
    {
     "name": "stderr",
     "output_type": "stream",
     "text": [
      "\n",
      "\n",
      "Creating report:   0%|                                    | 0/4 [00:00<?, ?it/s]\u001b[A\u001b[A\n",
      "\n",
      "Creating report: 100%|████████████████████████████| 4/4 [00:00<00:00,  4.28it/s]\u001b[A\u001b[A\n"
     ]
    },
    {
     "name": "stdout",
     "output_type": "stream",
     "text": [
      "\n",
      "Overall Quality Score: 41.47%\n",
      "\n",
      "Properties:\n",
      "Column Shapes: 40.11%\n",
      "Column Pair Trends: 42.84%\n"
     ]
    },
    {
     "name": "stderr",
     "output_type": "stream",
     "text": [
      "\n",
      "\n",
      "Creating report:   0%|                                    | 0/4 [00:00<?, ?it/s]\u001b[A\u001b[A\n",
      "\n",
      "Creating report: 100%|████████████████████████████| 4/4 [00:00<00:00,  4.50it/s]\u001b[A\u001b[A"
     ]
    },
    {
     "name": "stdout",
     "output_type": "stream",
     "text": [
      "\n",
      "Overall Quality Score: 45.95%\n",
      "\n",
      "Properties:\n",
      "Column Shapes: 44.89%\n",
      "Column Pair Trends: 47.01%\n"
     ]
    },
    {
     "name": "stderr",
     "output_type": "stream",
     "text": [
      "\n"
     ]
    },
    {
     "data": {
      "application/vnd.jupyter.widget-view+json": {
       "model_id": "b5d85fcad495492cb0bb821137081fc1",
       "version_major": 2,
       "version_minor": 0
      },
      "text/plain": [
       "  0%|          | 0/5 [00:00<?, ?it/s]"
      ]
     },
     "metadata": {},
     "output_type": "display_data"
    },
    {
     "name": "stderr",
     "output_type": "stream",
     "text": [
      "\n",
      "\n",
      "Creating report:   0%|                                    | 0/4 [00:00<?, ?it/s]\u001b[A\u001b[A\n",
      "\n",
      "Creating report: 100%|████████████████████████████| 4/4 [00:00<00:00,  4.93it/s]\u001b[A\u001b[A\n"
     ]
    },
    {
     "name": "stdout",
     "output_type": "stream",
     "text": [
      "\n",
      "Overall Quality Score: 59.17%\n",
      "\n",
      "Properties:\n",
      "Column Shapes: 50.72%\n",
      "Column Pair Trends: 67.61%\n"
     ]
    },
    {
     "name": "stderr",
     "output_type": "stream",
     "text": [
      "\n",
      "\n",
      "Creating report:   0%|                                    | 0/4 [00:00<?, ?it/s]\u001b[A\u001b[A\n",
      "\n",
      "Creating report: 100%|████████████████████████████| 4/4 [00:00<00:00,  4.97it/s]\u001b[A\u001b[A\n"
     ]
    },
    {
     "name": "stdout",
     "output_type": "stream",
     "text": [
      "\n",
      "Overall Quality Score: 62.74%\n",
      "\n",
      "Properties:\n",
      "Column Shapes: 52.77%\n",
      "Column Pair Trends: 72.72%\n"
     ]
    },
    {
     "name": "stderr",
     "output_type": "stream",
     "text": [
      "\n",
      "\n",
      "Creating report:   0%|                                    | 0/4 [00:00<?, ?it/s]\u001b[A\u001b[A\n",
      "\n",
      "Creating report: 100%|████████████████████████████| 4/4 [00:00<00:00,  5.35it/s]\u001b[A\u001b[A\n"
     ]
    },
    {
     "name": "stdout",
     "output_type": "stream",
     "text": [
      "\n",
      "Overall Quality Score: 56.92%\n",
      "\n",
      "Properties:\n",
      "Column Shapes: 48.97%\n",
      "Column Pair Trends: 64.88%\n"
     ]
    },
    {
     "name": "stderr",
     "output_type": "stream",
     "text": [
      "\n",
      "\n",
      "Creating report:   0%|                                    | 0/4 [00:00<?, ?it/s]\u001b[A\u001b[A\n",
      "\n",
      "Creating report: 100%|████████████████████████████| 4/4 [00:00<00:00,  5.11it/s]\u001b[A\u001b[A\n"
     ]
    },
    {
     "name": "stdout",
     "output_type": "stream",
     "text": [
      "\n",
      "Overall Quality Score: 56.9%\n",
      "\n",
      "Properties:\n",
      "Column Shapes: 49.82%\n",
      "Column Pair Trends: 63.98%\n"
     ]
    },
    {
     "name": "stderr",
     "output_type": "stream",
     "text": [
      "\n",
      "\n",
      "Creating report:   0%|                                    | 0/4 [00:00<?, ?it/s]\u001b[A\u001b[A\n",
      "\n",
      "Creating report: 100%|████████████████████████████| 4/4 [00:00<00:00,  5.14it/s]\u001b[A\u001b[A"
     ]
    },
    {
     "name": "stdout",
     "output_type": "stream",
     "text": [
      "\n",
      "Overall Quality Score: 42.02%\n",
      "\n",
      "Properties:\n",
      "Column Shapes: 41.7%\n",
      "Column Pair Trends: 42.35%\n"
     ]
    },
    {
     "name": "stderr",
     "output_type": "stream",
     "text": [
      "\n"
     ]
    },
    {
     "data": {
      "application/vnd.jupyter.widget-view+json": {
       "model_id": "3d85ed773fa048f5b4ce89e61f9be42d",
       "version_major": 2,
       "version_minor": 0
      },
      "text/plain": [
       "  0%|          | 0/5 [00:00<?, ?it/s]"
      ]
     },
     "metadata": {},
     "output_type": "display_data"
    },
    {
     "name": "stderr",
     "output_type": "stream",
     "text": [
      "\n",
      "\n",
      "Creating report:   0%|                                    | 0/4 [00:00<?, ?it/s]\u001b[A\u001b[A\n",
      "\n",
      "Creating report: 100%|████████████████████████████| 4/4 [00:00<00:00,  5.16it/s]\u001b[A\u001b[A\n"
     ]
    },
    {
     "name": "stdout",
     "output_type": "stream",
     "text": [
      "\n",
      "Overall Quality Score: 59.66%\n",
      "\n",
      "Properties:\n",
      "Column Shapes: 51.16%\n",
      "Column Pair Trends: 68.15%\n"
     ]
    },
    {
     "name": "stderr",
     "output_type": "stream",
     "text": [
      "\n",
      "\n",
      "Creating report:   0%|                                    | 0/4 [00:00<?, ?it/s]\u001b[A\u001b[A\n",
      "\n",
      "Creating report: 100%|████████████████████████████| 4/4 [00:01<00:00,  3.99it/s]\u001b[A\u001b[A\n"
     ]
    },
    {
     "name": "stdout",
     "output_type": "stream",
     "text": [
      "\n",
      "Overall Quality Score: 59.65%\n",
      "\n",
      "Properties:\n",
      "Column Shapes: 50.64%\n",
      "Column Pair Trends: 68.66%\n"
     ]
    },
    {
     "name": "stderr",
     "output_type": "stream",
     "text": [
      "\n",
      "\n",
      "Creating report:   0%|                                    | 0/4 [00:00<?, ?it/s]\u001b[A\u001b[A\n",
      "\n",
      "Creating report: 100%|████████████████████████████| 4/4 [00:00<00:00,  5.47it/s]\u001b[A\u001b[A\n"
     ]
    },
    {
     "name": "stdout",
     "output_type": "stream",
     "text": [
      "\n",
      "Overall Quality Score: 58.74%\n",
      "\n",
      "Properties:\n",
      "Column Shapes: 51.07%\n",
      "Column Pair Trends: 66.42%\n"
     ]
    },
    {
     "name": "stderr",
     "output_type": "stream",
     "text": [
      "\n",
      "\n",
      "Creating report:   0%|                                    | 0/4 [00:00<?, ?it/s]\u001b[A\u001b[A\n",
      "\n",
      "Creating report: 100%|████████████████████████████| 4/4 [00:00<00:00,  5.39it/s]\u001b[A\u001b[A\n"
     ]
    },
    {
     "name": "stdout",
     "output_type": "stream",
     "text": [
      "\n",
      "Overall Quality Score: 54.33%\n",
      "\n",
      "Properties:\n",
      "Column Shapes: 47.84%\n",
      "Column Pair Trends: 60.82%\n"
     ]
    },
    {
     "name": "stderr",
     "output_type": "stream",
     "text": [
      "\n",
      "\n",
      "Creating report:   0%|                                    | 0/4 [00:00<?, ?it/s]\u001b[A\u001b[A\n",
      "\n",
      "Creating report: 100%|████████████████████████████| 4/4 [00:00<00:00,  5.37it/s]\u001b[A\u001b[A"
     ]
    },
    {
     "name": "stdout",
     "output_type": "stream",
     "text": [
      "\n",
      "Overall Quality Score: 56.46%\n",
      "\n",
      "Properties:\n",
      "Column Shapes: 48.81%\n",
      "Column Pair Trends: 64.12%\n"
     ]
    },
    {
     "name": "stderr",
     "output_type": "stream",
     "text": [
      "\n"
     ]
    },
    {
     "data": {
      "application/vnd.jupyter.widget-view+json": {
       "model_id": "06318a1ca9054a899910f4354124b4e1",
       "version_major": 2,
       "version_minor": 0
      },
      "text/plain": [
       "  0%|          | 0/5 [00:00<?, ?it/s]"
      ]
     },
     "metadata": {},
     "output_type": "display_data"
    },
    {
     "name": "stderr",
     "output_type": "stream",
     "text": [
      "\n",
      "\n",
      "Creating report:   0%|                                    | 0/4 [00:00<?, ?it/s]\u001b[A\u001b[A\n",
      "\n",
      "Creating report: 100%|████████████████████████████| 4/4 [00:00<00:00,  5.78it/s]\u001b[A\u001b[A\n"
     ]
    },
    {
     "name": "stdout",
     "output_type": "stream",
     "text": [
      "\n",
      "Overall Quality Score: 32.76%\n",
      "\n",
      "Properties:\n",
      "Column Shapes: 36.3%\n",
      "Column Pair Trends: 29.22%\n"
     ]
    },
    {
     "name": "stderr",
     "output_type": "stream",
     "text": [
      "\n",
      "\n",
      "Creating report:   0%|                                    | 0/4 [00:00<?, ?it/s]\u001b[A\u001b[A\n",
      "\n",
      "Creating report: 100%|████████████████████████████| 4/4 [00:00<00:00,  5.74it/s]\u001b[A\u001b[A\n"
     ]
    },
    {
     "name": "stdout",
     "output_type": "stream",
     "text": [
      "\n",
      "Overall Quality Score: 33.81%\n",
      "\n",
      "Properties:\n",
      "Column Shapes: 35.98%\n",
      "Column Pair Trends: 31.64%\n"
     ]
    },
    {
     "name": "stderr",
     "output_type": "stream",
     "text": [
      "\n",
      "\n",
      "Creating report:   0%|                                    | 0/4 [00:00<?, ?it/s]\u001b[A\u001b[A\n",
      "\n",
      "Creating report: 100%|████████████████████████████| 4/4 [00:00<00:00,  5.56it/s]\u001b[A\u001b[A\n"
     ]
    },
    {
     "name": "stdout",
     "output_type": "stream",
     "text": [
      "\n",
      "Overall Quality Score: 32.72%\n",
      "\n",
      "Properties:\n",
      "Column Shapes: 32.81%\n",
      "Column Pair Trends: 32.64%\n"
     ]
    },
    {
     "name": "stderr",
     "output_type": "stream",
     "text": [
      "\n",
      "\n",
      "Creating report:   0%|                                    | 0/4 [00:00<?, ?it/s]\u001b[A\u001b[A\n",
      "\n",
      "Creating report: 100%|████████████████████████████| 4/4 [00:00<00:00,  5.48it/s]\u001b[A\u001b[A\n"
     ]
    },
    {
     "name": "stdout",
     "output_type": "stream",
     "text": [
      "\n",
      "Overall Quality Score: 34.43%\n",
      "\n",
      "Properties:\n",
      "Column Shapes: 35.38%\n",
      "Column Pair Trends: 33.48%\n"
     ]
    },
    {
     "name": "stderr",
     "output_type": "stream",
     "text": [
      "\n",
      "\n",
      "Creating report:   0%|                                    | 0/4 [00:00<?, ?it/s]\u001b[A\u001b[A\n",
      "\n",
      "Creating report: 100%|████████████████████████████| 4/4 [00:00<00:00,  5.73it/s]\u001b[A\u001b[A"
     ]
    },
    {
     "name": "stdout",
     "output_type": "stream",
     "text": [
      "\n",
      "Overall Quality Score: 32.46%\n",
      "\n",
      "Properties:\n",
      "Column Shapes: 34.41%\n",
      "Column Pair Trends: 30.51%\n"
     ]
    },
    {
     "name": "stderr",
     "output_type": "stream",
     "text": [
      "\n"
     ]
    }
   ],
   "source": [
    "scores = []\n",
    "shape_scores = []\n",
    "trend_scores = []\n",
    "\n",
    "lrs = []\n",
    "negative_slopes_G = []\n",
    "negative_slopes_D = []\n",
    "dropout_probabilities = []\n",
    "\n",
    "negative_slope_G = 1\n",
    "dropout_probability = 0\n",
    "\n",
    "for lr in tqdm(lr_list):\n",
    "        for negative_slope_D in tqdm(negative_slope_list):\n",
    "                score, shape_score, trend_score = train_test_evaluate(lr, negative_slope_G, negative_slope_D, dropout_probability)\n",
    "                scores.append(score)\n",
    "                shape_scores.append(shape_score)\n",
    "                trend_scores.append(trend_score)\n",
    "                \n",
    "                lrs.append(lr)\n",
    "                negative_slopes_G.append(negative_slope_G)\n",
    "                negative_slopes_D.append(negative_slope_D)\n",
    "                dropout_probabilities.append(dropout_probability)"
   ]
  },
  {
   "cell_type": "code",
   "execution_count": null,
   "metadata": {},
   "outputs": [],
   "source": []
  },
  {
   "cell_type": "markdown",
   "metadata": {},
   "source": [
    "# Score"
   ]
  },
  {
   "cell_type": "markdown",
   "metadata": {},
   "source": [
    "## Save scores"
   ]
  },
  {
   "cell_type": "code",
   "execution_count": 83,
   "metadata": {
    "scrolled": false
   },
   "outputs": [
    {
     "data": {
      "text/html": [
       "<div>\n",
       "<style scoped>\n",
       "    .dataframe tbody tr th:only-of-type {\n",
       "        vertical-align: middle;\n",
       "    }\n",
       "\n",
       "    .dataframe tbody tr th {\n",
       "        vertical-align: top;\n",
       "    }\n",
       "\n",
       "    .dataframe thead th {\n",
       "        text-align: right;\n",
       "    }\n",
       "</style>\n",
       "<table border=\"1\" class=\"dataframe\">\n",
       "  <thead>\n",
       "    <tr style=\"text-align: right;\">\n",
       "      <th></th>\n",
       "      <th>LR</th>\n",
       "      <th>NSG</th>\n",
       "      <th>NSD</th>\n",
       "      <th>DP</th>\n",
       "      <th>Score</th>\n",
       "      <th>Shape_score</th>\n",
       "      <th>Trend_score</th>\n",
       "    </tr>\n",
       "  </thead>\n",
       "  <tbody>\n",
       "    <tr>\n",
       "      <th>0</th>\n",
       "      <td>0.010000</td>\n",
       "      <td>1</td>\n",
       "      <td>0.01</td>\n",
       "      <td>0</td>\n",
       "      <td>0.327893</td>\n",
       "      <td>0.356300</td>\n",
       "      <td>0.299486</td>\n",
       "    </tr>\n",
       "    <tr>\n",
       "      <th>1</th>\n",
       "      <td>0.010000</td>\n",
       "      <td>1</td>\n",
       "      <td>0.10</td>\n",
       "      <td>0</td>\n",
       "      <td>0.241379</td>\n",
       "      <td>0.279750</td>\n",
       "      <td>0.203007</td>\n",
       "    </tr>\n",
       "    <tr>\n",
       "      <th>2</th>\n",
       "      <td>0.010000</td>\n",
       "      <td>1</td>\n",
       "      <td>0.30</td>\n",
       "      <td>0</td>\n",
       "      <td>0.256386</td>\n",
       "      <td>0.319450</td>\n",
       "      <td>0.193321</td>\n",
       "    </tr>\n",
       "    <tr>\n",
       "      <th>3</th>\n",
       "      <td>0.010000</td>\n",
       "      <td>1</td>\n",
       "      <td>0.60</td>\n",
       "      <td>0</td>\n",
       "      <td>0.224080</td>\n",
       "      <td>0.310125</td>\n",
       "      <td>0.138036</td>\n",
       "    </tr>\n",
       "    <tr>\n",
       "      <th>4</th>\n",
       "      <td>0.010000</td>\n",
       "      <td>1</td>\n",
       "      <td>1.00</td>\n",
       "      <td>0</td>\n",
       "      <td>0.275338</td>\n",
       "      <td>0.373675</td>\n",
       "      <td>0.177000</td>\n",
       "    </tr>\n",
       "    <tr>\n",
       "      <th>5</th>\n",
       "      <td>0.001000</td>\n",
       "      <td>1</td>\n",
       "      <td>0.01</td>\n",
       "      <td>0</td>\n",
       "      <td>0.422223</td>\n",
       "      <td>0.394175</td>\n",
       "      <td>0.450271</td>\n",
       "    </tr>\n",
       "    <tr>\n",
       "      <th>6</th>\n",
       "      <td>0.001000</td>\n",
       "      <td>1</td>\n",
       "      <td>0.10</td>\n",
       "      <td>0</td>\n",
       "      <td>0.420875</td>\n",
       "      <td>0.407750</td>\n",
       "      <td>0.434000</td>\n",
       "    </tr>\n",
       "    <tr>\n",
       "      <th>7</th>\n",
       "      <td>0.001000</td>\n",
       "      <td>1</td>\n",
       "      <td>0.30</td>\n",
       "      <td>0</td>\n",
       "      <td>0.364245</td>\n",
       "      <td>0.381425</td>\n",
       "      <td>0.347064</td>\n",
       "    </tr>\n",
       "    <tr>\n",
       "      <th>8</th>\n",
       "      <td>0.001000</td>\n",
       "      <td>1</td>\n",
       "      <td>0.60</td>\n",
       "      <td>0</td>\n",
       "      <td>0.414725</td>\n",
       "      <td>0.401100</td>\n",
       "      <td>0.428350</td>\n",
       "    </tr>\n",
       "    <tr>\n",
       "      <th>9</th>\n",
       "      <td>0.001000</td>\n",
       "      <td>1</td>\n",
       "      <td>1.00</td>\n",
       "      <td>0</td>\n",
       "      <td>0.459534</td>\n",
       "      <td>0.448925</td>\n",
       "      <td>0.470143</td>\n",
       "    </tr>\n",
       "    <tr>\n",
       "      <th>10</th>\n",
       "      <td>0.000100</td>\n",
       "      <td>1</td>\n",
       "      <td>0.01</td>\n",
       "      <td>0</td>\n",
       "      <td>0.591680</td>\n",
       "      <td>0.507225</td>\n",
       "      <td>0.676136</td>\n",
       "    </tr>\n",
       "    <tr>\n",
       "      <th>11</th>\n",
       "      <td>0.000100</td>\n",
       "      <td>1</td>\n",
       "      <td>0.10</td>\n",
       "      <td>0</td>\n",
       "      <td>0.627443</td>\n",
       "      <td>0.527650</td>\n",
       "      <td>0.727236</td>\n",
       "    </tr>\n",
       "    <tr>\n",
       "      <th>12</th>\n",
       "      <td>0.000100</td>\n",
       "      <td>1</td>\n",
       "      <td>0.30</td>\n",
       "      <td>0</td>\n",
       "      <td>0.569213</td>\n",
       "      <td>0.489675</td>\n",
       "      <td>0.648750</td>\n",
       "    </tr>\n",
       "    <tr>\n",
       "      <th>13</th>\n",
       "      <td>0.000100</td>\n",
       "      <td>1</td>\n",
       "      <td>0.60</td>\n",
       "      <td>0</td>\n",
       "      <td>0.568973</td>\n",
       "      <td>0.498175</td>\n",
       "      <td>0.639771</td>\n",
       "    </tr>\n",
       "    <tr>\n",
       "      <th>14</th>\n",
       "      <td>0.000100</td>\n",
       "      <td>1</td>\n",
       "      <td>1.00</td>\n",
       "      <td>0</td>\n",
       "      <td>0.420246</td>\n",
       "      <td>0.417000</td>\n",
       "      <td>0.423493</td>\n",
       "    </tr>\n",
       "    <tr>\n",
       "      <th>15</th>\n",
       "      <td>0.000010</td>\n",
       "      <td>1</td>\n",
       "      <td>0.01</td>\n",
       "      <td>0</td>\n",
       "      <td>0.596552</td>\n",
       "      <td>0.511625</td>\n",
       "      <td>0.681479</td>\n",
       "    </tr>\n",
       "    <tr>\n",
       "      <th>16</th>\n",
       "      <td>0.000010</td>\n",
       "      <td>1</td>\n",
       "      <td>0.10</td>\n",
       "      <td>0</td>\n",
       "      <td>0.596521</td>\n",
       "      <td>0.506400</td>\n",
       "      <td>0.686643</td>\n",
       "    </tr>\n",
       "    <tr>\n",
       "      <th>17</th>\n",
       "      <td>0.000010</td>\n",
       "      <td>1</td>\n",
       "      <td>0.30</td>\n",
       "      <td>0</td>\n",
       "      <td>0.587439</td>\n",
       "      <td>0.510650</td>\n",
       "      <td>0.664229</td>\n",
       "    </tr>\n",
       "    <tr>\n",
       "      <th>18</th>\n",
       "      <td>0.000010</td>\n",
       "      <td>1</td>\n",
       "      <td>0.60</td>\n",
       "      <td>0</td>\n",
       "      <td>0.543288</td>\n",
       "      <td>0.478425</td>\n",
       "      <td>0.608150</td>\n",
       "    </tr>\n",
       "    <tr>\n",
       "      <th>19</th>\n",
       "      <td>0.000010</td>\n",
       "      <td>1</td>\n",
       "      <td>1.00</td>\n",
       "      <td>0</td>\n",
       "      <td>0.564625</td>\n",
       "      <td>0.488050</td>\n",
       "      <td>0.641200</td>\n",
       "    </tr>\n",
       "    <tr>\n",
       "      <th>20</th>\n",
       "      <td>0.000001</td>\n",
       "      <td>1</td>\n",
       "      <td>0.01</td>\n",
       "      <td>0</td>\n",
       "      <td>0.327564</td>\n",
       "      <td>0.362950</td>\n",
       "      <td>0.292179</td>\n",
       "    </tr>\n",
       "    <tr>\n",
       "      <th>21</th>\n",
       "      <td>0.000001</td>\n",
       "      <td>1</td>\n",
       "      <td>0.10</td>\n",
       "      <td>0</td>\n",
       "      <td>0.338082</td>\n",
       "      <td>0.359800</td>\n",
       "      <td>0.316364</td>\n",
       "    </tr>\n",
       "    <tr>\n",
       "      <th>22</th>\n",
       "      <td>0.000001</td>\n",
       "      <td>1</td>\n",
       "      <td>0.30</td>\n",
       "      <td>0</td>\n",
       "      <td>0.327245</td>\n",
       "      <td>0.328075</td>\n",
       "      <td>0.326414</td>\n",
       "    </tr>\n",
       "    <tr>\n",
       "      <th>23</th>\n",
       "      <td>0.000001</td>\n",
       "      <td>1</td>\n",
       "      <td>0.60</td>\n",
       "      <td>0</td>\n",
       "      <td>0.344271</td>\n",
       "      <td>0.353750</td>\n",
       "      <td>0.334793</td>\n",
       "    </tr>\n",
       "    <tr>\n",
       "      <th>24</th>\n",
       "      <td>0.000001</td>\n",
       "      <td>1</td>\n",
       "      <td>1.00</td>\n",
       "      <td>0</td>\n",
       "      <td>0.324621</td>\n",
       "      <td>0.344100</td>\n",
       "      <td>0.305143</td>\n",
       "    </tr>\n",
       "  </tbody>\n",
       "</table>\n",
       "</div>"
      ],
      "text/plain": [
       "          LR  NSG   NSD  DP     Score  Shape_score  Trend_score\n",
       "0   0.010000    1  0.01   0  0.327893     0.356300     0.299486\n",
       "1   0.010000    1  0.10   0  0.241379     0.279750     0.203007\n",
       "2   0.010000    1  0.30   0  0.256386     0.319450     0.193321\n",
       "3   0.010000    1  0.60   0  0.224080     0.310125     0.138036\n",
       "4   0.010000    1  1.00   0  0.275338     0.373675     0.177000\n",
       "5   0.001000    1  0.01   0  0.422223     0.394175     0.450271\n",
       "6   0.001000    1  0.10   0  0.420875     0.407750     0.434000\n",
       "7   0.001000    1  0.30   0  0.364245     0.381425     0.347064\n",
       "8   0.001000    1  0.60   0  0.414725     0.401100     0.428350\n",
       "9   0.001000    1  1.00   0  0.459534     0.448925     0.470143\n",
       "10  0.000100    1  0.01   0  0.591680     0.507225     0.676136\n",
       "11  0.000100    1  0.10   0  0.627443     0.527650     0.727236\n",
       "12  0.000100    1  0.30   0  0.569213     0.489675     0.648750\n",
       "13  0.000100    1  0.60   0  0.568973     0.498175     0.639771\n",
       "14  0.000100    1  1.00   0  0.420246     0.417000     0.423493\n",
       "15  0.000010    1  0.01   0  0.596552     0.511625     0.681479\n",
       "16  0.000010    1  0.10   0  0.596521     0.506400     0.686643\n",
       "17  0.000010    1  0.30   0  0.587439     0.510650     0.664229\n",
       "18  0.000010    1  0.60   0  0.543288     0.478425     0.608150\n",
       "19  0.000010    1  1.00   0  0.564625     0.488050     0.641200\n",
       "20  0.000001    1  0.01   0  0.327564     0.362950     0.292179\n",
       "21  0.000001    1  0.10   0  0.338082     0.359800     0.316364\n",
       "22  0.000001    1  0.30   0  0.327245     0.328075     0.326414\n",
       "23  0.000001    1  0.60   0  0.344271     0.353750     0.334793\n",
       "24  0.000001    1  1.00   0  0.324621     0.344100     0.305143"
      ]
     },
     "execution_count": 83,
     "metadata": {},
     "output_type": "execute_result"
    }
   ],
   "source": [
    "score_df = pd.DataFrame(list(zip(lrs, negative_slopes_G, negative_slopes_D, \n",
    "                                 dropout_probabilities, scores, shape_scores, \n",
    "                                 trend_scores)), \n",
    "                        columns=['LR', 'NSG', 'NSD', 'DP', 'Score', \n",
    "                                 'Shape_score', 'Trend_score'])\n",
    "score_df"
   ]
  },
  {
   "cell_type": "code",
   "execution_count": 84,
   "metadata": {},
   "outputs": [],
   "source": [
    "score_df.to_csv('scores2.csv', index=False)"
   ]
  },
  {
   "cell_type": "markdown",
   "metadata": {},
   "source": [
    "## First Score"
   ]
  },
  {
   "cell_type": "code",
   "execution_count": 88,
   "metadata": {},
   "outputs": [
    {
     "data": {
      "text/html": [
       "<div>\n",
       "<style scoped>\n",
       "    .dataframe tbody tr th:only-of-type {\n",
       "        vertical-align: middle;\n",
       "    }\n",
       "\n",
       "    .dataframe tbody tr th {\n",
       "        vertical-align: top;\n",
       "    }\n",
       "\n",
       "    .dataframe thead th {\n",
       "        text-align: right;\n",
       "    }\n",
       "</style>\n",
       "<table border=\"1\" class=\"dataframe\">\n",
       "  <thead>\n",
       "    <tr style=\"text-align: right;\">\n",
       "      <th></th>\n",
       "      <th>LR</th>\n",
       "      <th>NSG</th>\n",
       "      <th>NSD</th>\n",
       "      <th>DP</th>\n",
       "      <th>Score</th>\n",
       "    </tr>\n",
       "  </thead>\n",
       "  <tbody>\n",
       "    <tr>\n",
       "      <th>0</th>\n",
       "      <td>1.000000e-02</td>\n",
       "      <td>0.01</td>\n",
       "      <td>0.01</td>\n",
       "      <td>0.00</td>\n",
       "      <td>0.378573</td>\n",
       "    </tr>\n",
       "    <tr>\n",
       "      <th>1</th>\n",
       "      <td>1.000000e-02</td>\n",
       "      <td>0.01</td>\n",
       "      <td>0.01</td>\n",
       "      <td>0.01</td>\n",
       "      <td>0.187936</td>\n",
       "    </tr>\n",
       "    <tr>\n",
       "      <th>2</th>\n",
       "      <td>1.000000e-02</td>\n",
       "      <td>0.01</td>\n",
       "      <td>0.01</td>\n",
       "      <td>0.10</td>\n",
       "      <td>0.358505</td>\n",
       "    </tr>\n",
       "    <tr>\n",
       "      <th>3</th>\n",
       "      <td>1.000000e-02</td>\n",
       "      <td>0.01</td>\n",
       "      <td>0.01</td>\n",
       "      <td>0.30</td>\n",
       "      <td>0.385188</td>\n",
       "    </tr>\n",
       "    <tr>\n",
       "      <th>4</th>\n",
       "      <td>1.000000e-02</td>\n",
       "      <td>0.01</td>\n",
       "      <td>0.01</td>\n",
       "      <td>0.60</td>\n",
       "      <td>0.374029</td>\n",
       "    </tr>\n",
       "    <tr>\n",
       "      <th>...</th>\n",
       "      <td>...</td>\n",
       "      <td>...</td>\n",
       "      <td>...</td>\n",
       "      <td>...</td>\n",
       "      <td>...</td>\n",
       "    </tr>\n",
       "    <tr>\n",
       "      <th>895</th>\n",
       "      <td>1.000000e-07</td>\n",
       "      <td>1.00</td>\n",
       "      <td>1.00</td>\n",
       "      <td>0.01</td>\n",
       "      <td>0.317602</td>\n",
       "    </tr>\n",
       "    <tr>\n",
       "      <th>896</th>\n",
       "      <td>1.000000e-07</td>\n",
       "      <td>1.00</td>\n",
       "      <td>1.00</td>\n",
       "      <td>0.10</td>\n",
       "      <td>0.305477</td>\n",
       "    </tr>\n",
       "    <tr>\n",
       "      <th>897</th>\n",
       "      <td>1.000000e-07</td>\n",
       "      <td>1.00</td>\n",
       "      <td>1.00</td>\n",
       "      <td>0.30</td>\n",
       "      <td>0.282261</td>\n",
       "    </tr>\n",
       "    <tr>\n",
       "      <th>898</th>\n",
       "      <td>1.000000e-07</td>\n",
       "      <td>1.00</td>\n",
       "      <td>1.00</td>\n",
       "      <td>0.60</td>\n",
       "      <td>0.313414</td>\n",
       "    </tr>\n",
       "    <tr>\n",
       "      <th>899</th>\n",
       "      <td>1.000000e-07</td>\n",
       "      <td>1.00</td>\n",
       "      <td>1.00</td>\n",
       "      <td>0.80</td>\n",
       "      <td>0.301114</td>\n",
       "    </tr>\n",
       "  </tbody>\n",
       "</table>\n",
       "<p>900 rows × 5 columns</p>\n",
       "</div>"
      ],
      "text/plain": [
       "               LR   NSG   NSD    DP     Score\n",
       "0    1.000000e-02  0.01  0.01  0.00  0.378573\n",
       "1    1.000000e-02  0.01  0.01  0.01  0.187936\n",
       "2    1.000000e-02  0.01  0.01  0.10  0.358505\n",
       "3    1.000000e-02  0.01  0.01  0.30  0.385188\n",
       "4    1.000000e-02  0.01  0.01  0.60  0.374029\n",
       "..            ...   ...   ...   ...       ...\n",
       "895  1.000000e-07  1.00  1.00  0.01  0.317602\n",
       "896  1.000000e-07  1.00  1.00  0.10  0.305477\n",
       "897  1.000000e-07  1.00  1.00  0.30  0.282261\n",
       "898  1.000000e-07  1.00  1.00  0.60  0.313414\n",
       "899  1.000000e-07  1.00  1.00  0.80  0.301114\n",
       "\n",
       "[900 rows x 5 columns]"
      ]
     },
     "execution_count": 88,
     "metadata": {},
     "output_type": "execute_result"
    }
   ],
   "source": [
    "score_df = pd.read_csv('scores1.csv')\n",
    "score_df"
   ]
  },
  {
   "cell_type": "code",
   "execution_count": 62,
   "metadata": {},
   "outputs": [
    {
     "data": {
      "text/html": [
       "<div>\n",
       "<style scoped>\n",
       "    .dataframe tbody tr th:only-of-type {\n",
       "        vertical-align: middle;\n",
       "    }\n",
       "\n",
       "    .dataframe tbody tr th {\n",
       "        vertical-align: top;\n",
       "    }\n",
       "\n",
       "    .dataframe thead th {\n",
       "        text-align: right;\n",
       "    }\n",
       "</style>\n",
       "<table border=\"1\" class=\"dataframe\">\n",
       "  <thead>\n",
       "    <tr style=\"text-align: right;\">\n",
       "      <th></th>\n",
       "      <th>LR</th>\n",
       "      <th>NSG</th>\n",
       "      <th>NSD</th>\n",
       "      <th>DP</th>\n",
       "      <th>Score</th>\n",
       "    </tr>\n",
       "  </thead>\n",
       "  <tbody>\n",
       "    <tr>\n",
       "      <th>432</th>\n",
       "      <td>0.0001</td>\n",
       "      <td>1.0</td>\n",
       "      <td>0.3</td>\n",
       "      <td>0.0</td>\n",
       "      <td>0.647505</td>\n",
       "    </tr>\n",
       "  </tbody>\n",
       "</table>\n",
       "</div>"
      ],
      "text/plain": [
       "         LR  NSG  NSD   DP     Score\n",
       "432  0.0001  1.0  0.3  0.0  0.647505"
      ]
     },
     "execution_count": 62,
     "metadata": {},
     "output_type": "execute_result"
    }
   ],
   "source": [
    "score_df[score_df.Score == score_df.Score.max()]"
   ]
  },
  {
   "cell_type": "code",
   "execution_count": 87,
   "metadata": {},
   "outputs": [
    {
     "name": "stderr",
     "output_type": "stream",
     "text": [
      "Creating report: 100%|████████████████████████████| 4/4 [00:00<00:00,  5.45it/s]"
     ]
    },
    {
     "name": "stdout",
     "output_type": "stream",
     "text": [
      "\n",
      "Overall Quality Score: 63.21%\n",
      "\n",
      "Properties:\n",
      "Column Shapes: 53.11%\n",
      "Column Pair Trends: 73.31%\n"
     ]
    },
    {
     "name": "stderr",
     "output_type": "stream",
     "text": [
      "\n"
     ]
    },
    {
     "data": {
      "text/plain": [
       "(0.6320750005750002, 0.5311000011500002, 0.7330500000000001)"
      ]
     },
     "execution_count": 87,
     "metadata": {},
     "output_type": "execute_result"
    }
   ],
   "source": [
    "score, shape_score, trend_score = train_test_evaluate(0.0001, 1, 0.3, 0)\n",
    "(score, shape_score, trend_score)"
   ]
  },
  {
   "cell_type": "markdown",
   "metadata": {},
   "source": [
    "## Second score"
   ]
  },
  {
   "cell_type": "code",
   "execution_count": 89,
   "metadata": {
    "scrolled": false
   },
   "outputs": [
    {
     "data": {
      "text/html": [
       "<div>\n",
       "<style scoped>\n",
       "    .dataframe tbody tr th:only-of-type {\n",
       "        vertical-align: middle;\n",
       "    }\n",
       "\n",
       "    .dataframe tbody tr th {\n",
       "        vertical-align: top;\n",
       "    }\n",
       "\n",
       "    .dataframe thead th {\n",
       "        text-align: right;\n",
       "    }\n",
       "</style>\n",
       "<table border=\"1\" class=\"dataframe\">\n",
       "  <thead>\n",
       "    <tr style=\"text-align: right;\">\n",
       "      <th></th>\n",
       "      <th>LR</th>\n",
       "      <th>NSG</th>\n",
       "      <th>NSD</th>\n",
       "      <th>DP</th>\n",
       "      <th>Score</th>\n",
       "      <th>Shape_score</th>\n",
       "      <th>Trend_score</th>\n",
       "    </tr>\n",
       "  </thead>\n",
       "  <tbody>\n",
       "    <tr>\n",
       "      <th>0</th>\n",
       "      <td>0.010000</td>\n",
       "      <td>1</td>\n",
       "      <td>0.01</td>\n",
       "      <td>0</td>\n",
       "      <td>0.327893</td>\n",
       "      <td>0.356300</td>\n",
       "      <td>0.299486</td>\n",
       "    </tr>\n",
       "    <tr>\n",
       "      <th>1</th>\n",
       "      <td>0.010000</td>\n",
       "      <td>1</td>\n",
       "      <td>0.10</td>\n",
       "      <td>0</td>\n",
       "      <td>0.241379</td>\n",
       "      <td>0.279750</td>\n",
       "      <td>0.203007</td>\n",
       "    </tr>\n",
       "    <tr>\n",
       "      <th>2</th>\n",
       "      <td>0.010000</td>\n",
       "      <td>1</td>\n",
       "      <td>0.30</td>\n",
       "      <td>0</td>\n",
       "      <td>0.256386</td>\n",
       "      <td>0.319450</td>\n",
       "      <td>0.193321</td>\n",
       "    </tr>\n",
       "    <tr>\n",
       "      <th>3</th>\n",
       "      <td>0.010000</td>\n",
       "      <td>1</td>\n",
       "      <td>0.60</td>\n",
       "      <td>0</td>\n",
       "      <td>0.224080</td>\n",
       "      <td>0.310125</td>\n",
       "      <td>0.138036</td>\n",
       "    </tr>\n",
       "    <tr>\n",
       "      <th>4</th>\n",
       "      <td>0.010000</td>\n",
       "      <td>1</td>\n",
       "      <td>1.00</td>\n",
       "      <td>0</td>\n",
       "      <td>0.275338</td>\n",
       "      <td>0.373675</td>\n",
       "      <td>0.177000</td>\n",
       "    </tr>\n",
       "    <tr>\n",
       "      <th>5</th>\n",
       "      <td>0.001000</td>\n",
       "      <td>1</td>\n",
       "      <td>0.01</td>\n",
       "      <td>0</td>\n",
       "      <td>0.422223</td>\n",
       "      <td>0.394175</td>\n",
       "      <td>0.450271</td>\n",
       "    </tr>\n",
       "    <tr>\n",
       "      <th>6</th>\n",
       "      <td>0.001000</td>\n",
       "      <td>1</td>\n",
       "      <td>0.10</td>\n",
       "      <td>0</td>\n",
       "      <td>0.420875</td>\n",
       "      <td>0.407750</td>\n",
       "      <td>0.434000</td>\n",
       "    </tr>\n",
       "    <tr>\n",
       "      <th>7</th>\n",
       "      <td>0.001000</td>\n",
       "      <td>1</td>\n",
       "      <td>0.30</td>\n",
       "      <td>0</td>\n",
       "      <td>0.364245</td>\n",
       "      <td>0.381425</td>\n",
       "      <td>0.347064</td>\n",
       "    </tr>\n",
       "    <tr>\n",
       "      <th>8</th>\n",
       "      <td>0.001000</td>\n",
       "      <td>1</td>\n",
       "      <td>0.60</td>\n",
       "      <td>0</td>\n",
       "      <td>0.414725</td>\n",
       "      <td>0.401100</td>\n",
       "      <td>0.428350</td>\n",
       "    </tr>\n",
       "    <tr>\n",
       "      <th>9</th>\n",
       "      <td>0.001000</td>\n",
       "      <td>1</td>\n",
       "      <td>1.00</td>\n",
       "      <td>0</td>\n",
       "      <td>0.459534</td>\n",
       "      <td>0.448925</td>\n",
       "      <td>0.470143</td>\n",
       "    </tr>\n",
       "    <tr>\n",
       "      <th>10</th>\n",
       "      <td>0.000100</td>\n",
       "      <td>1</td>\n",
       "      <td>0.01</td>\n",
       "      <td>0</td>\n",
       "      <td>0.591680</td>\n",
       "      <td>0.507225</td>\n",
       "      <td>0.676136</td>\n",
       "    </tr>\n",
       "    <tr>\n",
       "      <th>11</th>\n",
       "      <td>0.000100</td>\n",
       "      <td>1</td>\n",
       "      <td>0.10</td>\n",
       "      <td>0</td>\n",
       "      <td>0.627443</td>\n",
       "      <td>0.527650</td>\n",
       "      <td>0.727236</td>\n",
       "    </tr>\n",
       "    <tr>\n",
       "      <th>12</th>\n",
       "      <td>0.000100</td>\n",
       "      <td>1</td>\n",
       "      <td>0.30</td>\n",
       "      <td>0</td>\n",
       "      <td>0.569213</td>\n",
       "      <td>0.489675</td>\n",
       "      <td>0.648750</td>\n",
       "    </tr>\n",
       "    <tr>\n",
       "      <th>13</th>\n",
       "      <td>0.000100</td>\n",
       "      <td>1</td>\n",
       "      <td>0.60</td>\n",
       "      <td>0</td>\n",
       "      <td>0.568973</td>\n",
       "      <td>0.498175</td>\n",
       "      <td>0.639771</td>\n",
       "    </tr>\n",
       "    <tr>\n",
       "      <th>14</th>\n",
       "      <td>0.000100</td>\n",
       "      <td>1</td>\n",
       "      <td>1.00</td>\n",
       "      <td>0</td>\n",
       "      <td>0.420246</td>\n",
       "      <td>0.417000</td>\n",
       "      <td>0.423493</td>\n",
       "    </tr>\n",
       "    <tr>\n",
       "      <th>15</th>\n",
       "      <td>0.000010</td>\n",
       "      <td>1</td>\n",
       "      <td>0.01</td>\n",
       "      <td>0</td>\n",
       "      <td>0.596552</td>\n",
       "      <td>0.511625</td>\n",
       "      <td>0.681479</td>\n",
       "    </tr>\n",
       "    <tr>\n",
       "      <th>16</th>\n",
       "      <td>0.000010</td>\n",
       "      <td>1</td>\n",
       "      <td>0.10</td>\n",
       "      <td>0</td>\n",
       "      <td>0.596521</td>\n",
       "      <td>0.506400</td>\n",
       "      <td>0.686643</td>\n",
       "    </tr>\n",
       "    <tr>\n",
       "      <th>17</th>\n",
       "      <td>0.000010</td>\n",
       "      <td>1</td>\n",
       "      <td>0.30</td>\n",
       "      <td>0</td>\n",
       "      <td>0.587439</td>\n",
       "      <td>0.510650</td>\n",
       "      <td>0.664229</td>\n",
       "    </tr>\n",
       "    <tr>\n",
       "      <th>18</th>\n",
       "      <td>0.000010</td>\n",
       "      <td>1</td>\n",
       "      <td>0.60</td>\n",
       "      <td>0</td>\n",
       "      <td>0.543288</td>\n",
       "      <td>0.478425</td>\n",
       "      <td>0.608150</td>\n",
       "    </tr>\n",
       "    <tr>\n",
       "      <th>19</th>\n",
       "      <td>0.000010</td>\n",
       "      <td>1</td>\n",
       "      <td>1.00</td>\n",
       "      <td>0</td>\n",
       "      <td>0.564625</td>\n",
       "      <td>0.488050</td>\n",
       "      <td>0.641200</td>\n",
       "    </tr>\n",
       "    <tr>\n",
       "      <th>20</th>\n",
       "      <td>0.000001</td>\n",
       "      <td>1</td>\n",
       "      <td>0.01</td>\n",
       "      <td>0</td>\n",
       "      <td>0.327564</td>\n",
       "      <td>0.362950</td>\n",
       "      <td>0.292179</td>\n",
       "    </tr>\n",
       "    <tr>\n",
       "      <th>21</th>\n",
       "      <td>0.000001</td>\n",
       "      <td>1</td>\n",
       "      <td>0.10</td>\n",
       "      <td>0</td>\n",
       "      <td>0.338082</td>\n",
       "      <td>0.359800</td>\n",
       "      <td>0.316364</td>\n",
       "    </tr>\n",
       "    <tr>\n",
       "      <th>22</th>\n",
       "      <td>0.000001</td>\n",
       "      <td>1</td>\n",
       "      <td>0.30</td>\n",
       "      <td>0</td>\n",
       "      <td>0.327245</td>\n",
       "      <td>0.328075</td>\n",
       "      <td>0.326414</td>\n",
       "    </tr>\n",
       "    <tr>\n",
       "      <th>23</th>\n",
       "      <td>0.000001</td>\n",
       "      <td>1</td>\n",
       "      <td>0.60</td>\n",
       "      <td>0</td>\n",
       "      <td>0.344271</td>\n",
       "      <td>0.353750</td>\n",
       "      <td>0.334793</td>\n",
       "    </tr>\n",
       "    <tr>\n",
       "      <th>24</th>\n",
       "      <td>0.000001</td>\n",
       "      <td>1</td>\n",
       "      <td>1.00</td>\n",
       "      <td>0</td>\n",
       "      <td>0.324621</td>\n",
       "      <td>0.344100</td>\n",
       "      <td>0.305143</td>\n",
       "    </tr>\n",
       "  </tbody>\n",
       "</table>\n",
       "</div>"
      ],
      "text/plain": [
       "          LR  NSG   NSD  DP     Score  Shape_score  Trend_score\n",
       "0   0.010000    1  0.01   0  0.327893     0.356300     0.299486\n",
       "1   0.010000    1  0.10   0  0.241379     0.279750     0.203007\n",
       "2   0.010000    1  0.30   0  0.256386     0.319450     0.193321\n",
       "3   0.010000    1  0.60   0  0.224080     0.310125     0.138036\n",
       "4   0.010000    1  1.00   0  0.275338     0.373675     0.177000\n",
       "5   0.001000    1  0.01   0  0.422223     0.394175     0.450271\n",
       "6   0.001000    1  0.10   0  0.420875     0.407750     0.434000\n",
       "7   0.001000    1  0.30   0  0.364245     0.381425     0.347064\n",
       "8   0.001000    1  0.60   0  0.414725     0.401100     0.428350\n",
       "9   0.001000    1  1.00   0  0.459534     0.448925     0.470143\n",
       "10  0.000100    1  0.01   0  0.591680     0.507225     0.676136\n",
       "11  0.000100    1  0.10   0  0.627443     0.527650     0.727236\n",
       "12  0.000100    1  0.30   0  0.569213     0.489675     0.648750\n",
       "13  0.000100    1  0.60   0  0.568973     0.498175     0.639771\n",
       "14  0.000100    1  1.00   0  0.420246     0.417000     0.423493\n",
       "15  0.000010    1  0.01   0  0.596552     0.511625     0.681479\n",
       "16  0.000010    1  0.10   0  0.596521     0.506400     0.686643\n",
       "17  0.000010    1  0.30   0  0.587439     0.510650     0.664229\n",
       "18  0.000010    1  0.60   0  0.543288     0.478425     0.608150\n",
       "19  0.000010    1  1.00   0  0.564625     0.488050     0.641200\n",
       "20  0.000001    1  0.01   0  0.327564     0.362950     0.292179\n",
       "21  0.000001    1  0.10   0  0.338082     0.359800     0.316364\n",
       "22  0.000001    1  0.30   0  0.327245     0.328075     0.326414\n",
       "23  0.000001    1  0.60   0  0.344271     0.353750     0.334793\n",
       "24  0.000001    1  1.00   0  0.324621     0.344100     0.305143"
      ]
     },
     "execution_count": 89,
     "metadata": {},
     "output_type": "execute_result"
    }
   ],
   "source": [
    "score_df = pd.read_csv('scores2.csv')\n",
    "score_df"
   ]
  },
  {
   "cell_type": "code",
   "execution_count": 91,
   "metadata": {},
   "outputs": [
    {
     "data": {
      "text/html": [
       "<div>\n",
       "<style scoped>\n",
       "    .dataframe tbody tr th:only-of-type {\n",
       "        vertical-align: middle;\n",
       "    }\n",
       "\n",
       "    .dataframe tbody tr th {\n",
       "        vertical-align: top;\n",
       "    }\n",
       "\n",
       "    .dataframe thead th {\n",
       "        text-align: right;\n",
       "    }\n",
       "</style>\n",
       "<table border=\"1\" class=\"dataframe\">\n",
       "  <thead>\n",
       "    <tr style=\"text-align: right;\">\n",
       "      <th></th>\n",
       "      <th>LR</th>\n",
       "      <th>NSG</th>\n",
       "      <th>NSD</th>\n",
       "      <th>DP</th>\n",
       "      <th>Score</th>\n",
       "      <th>Shape_score</th>\n",
       "      <th>Trend_score</th>\n",
       "    </tr>\n",
       "  </thead>\n",
       "  <tbody>\n",
       "    <tr>\n",
       "      <th>11</th>\n",
       "      <td>0.0001</td>\n",
       "      <td>1</td>\n",
       "      <td>0.1</td>\n",
       "      <td>0</td>\n",
       "      <td>0.627443</td>\n",
       "      <td>0.52765</td>\n",
       "      <td>0.727236</td>\n",
       "    </tr>\n",
       "  </tbody>\n",
       "</table>\n",
       "</div>"
      ],
      "text/plain": [
       "        LR  NSG  NSD  DP     Score  Shape_score  Trend_score\n",
       "11  0.0001    1  0.1   0  0.627443      0.52765     0.727236"
      ]
     },
     "execution_count": 91,
     "metadata": {},
     "output_type": "execute_result"
    }
   ],
   "source": [
    "score_df[score_df.Shape_score == score_df.Shape_score.max()]"
   ]
  },
  {
   "cell_type": "code",
   "execution_count": 92,
   "metadata": {},
   "outputs": [
    {
     "name": "stderr",
     "output_type": "stream",
     "text": [
      "Creating report: 100%|████████████████████████████| 4/4 [00:00<00:00,  5.21it/s]"
     ]
    },
    {
     "name": "stdout",
     "output_type": "stream",
     "text": [
      "\n",
      "Overall Quality Score: 62.42%\n",
      "\n",
      "Properties:\n",
      "Column Shapes: 52.56%\n",
      "Column Pair Trends: 72.28%\n"
     ]
    },
    {
     "name": "stderr",
     "output_type": "stream",
     "text": [
      "\n"
     ]
    },
    {
     "data": {
      "text/plain": [
       "(0.6242017862892857, 0.5255750011500002, 0.7228285714285713)"
      ]
     },
     "execution_count": 92,
     "metadata": {},
     "output_type": "execute_result"
    }
   ],
   "source": [
    "score, shape_score, trend_score = train_test_evaluate(0.0001, 1, 0.1, 0)\n",
    "(score, shape_score, trend_score)"
   ]
  },
  {
   "cell_type": "code",
   "execution_count": null,
   "metadata": {},
   "outputs": [],
   "source": []
  },
  {
   "cell_type": "code",
   "execution_count": null,
   "metadata": {},
   "outputs": [],
   "source": []
  },
  {
   "cell_type": "code",
   "execution_count": null,
   "metadata": {},
   "outputs": [],
   "source": []
  },
  {
   "cell_type": "code",
   "execution_count": null,
   "metadata": {},
   "outputs": [],
   "source": []
  },
  {
   "cell_type": "code",
   "execution_count": null,
   "metadata": {},
   "outputs": [],
   "source": []
  }
 ],
 "metadata": {
  "kernelspec": {
   "display_name": "Python 3 (ipykernel)",
   "language": "python",
   "name": "python3"
  },
  "language_info": {
   "codemirror_mode": {
    "name": "ipython",
    "version": 3
   },
   "file_extension": ".py",
   "mimetype": "text/x-python",
   "name": "python",
   "nbconvert_exporter": "python",
   "pygments_lexer": "ipython3",
   "version": "3.8.3"
  },
  "toc": {
   "base_numbering": 1,
   "nav_menu": {},
   "number_sections": true,
   "sideBar": true,
   "skip_h1_title": false,
   "title_cell": "Table of Contents",
   "title_sidebar": "Contents",
   "toc_cell": false,
   "toc_position": {
    "height": "calc(100% - 180px)",
    "left": "10px",
    "top": "150px",
    "width": "246px"
   },
   "toc_section_display": true,
   "toc_window_display": true
  }
 },
 "nbformat": 4,
 "nbformat_minor": 4
}
