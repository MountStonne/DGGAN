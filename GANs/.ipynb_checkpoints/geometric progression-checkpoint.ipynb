{
 "cells": [
  {
   "cell_type": "code",
   "execution_count": 5,
   "metadata": {},
   "outputs": [],
   "source": [
    "import numpy as np\n",
    "from matplotlib import pyplot as plt\n",
    "import pandas\n",
    "import seaborn as sns\n",
    "# import sympy as sp"
   ]
  },
  {
   "cell_type": "code",
   "execution_count": 12,
   "metadata": {
    "scrolled": false
   },
   "outputs": [
    {
     "data": {
      "text/plain": [
       "[<matplotlib.lines.Line2D at 0x7ff00ce61820>]"
      ]
     },
     "execution_count": 12,
     "metadata": {},
     "output_type": "execute_result"
    },
    {
     "data": {
      "image/png": "[encoded data removed]",
      "text/plain": [
       "<Figure size 640x480 with 1 Axes>"
      ]
     },
     "metadata": {},
     "output_type": "display_data"
    }
   ],
   "source": [
    "n = 200\n",
    "sn = 100\n",
    "if n == 200:\n",
    "    a = 0.4\n",
    "    r = 1.00217\n",
    "\n",
    "geometric_sequence = []\n",
    "\n",
    "for i in range(n):\n",
    "    geometric_sequence.append(a)\n",
    "    a = a * r\n",
    "\n",
    "x = [i for i in range(n)]\n",
    "plt.plot(x,geometric_sequence)"
   ]
  },
  {
   "cell_type": "code",
   "execution_count": null,
   "metadata": {},
   "outputs": [],
   "source": [
    "a = 0.3\n",
    "r = 1.00477\n",
    "n = 200\n",
    "sn = 100\n",
    "geometric_sequence = []\n",
    "for i in range(n):\n",
    "    geometric_sequence.append(a)\n",
    "    a = a * r\n",
    "\n",
    "x = [i for i in range(n)]\n",
    "plt.plot(x,geometric_sequence)"
   ]
  },
  {
   "cell_type": "code",
   "execution_count": null,
   "metadata": {},
   "outputs": [],
   "source": [
    "a = 0.2\n",
    "r = 1.00816\n",
    "n = 200\n",
    "sn = 100\n",
    "geometric_sequence = []\n",
    "for i in range(n):\n",
    "    geometric_sequence.append(a)\n",
    "    a = a * r\n",
    "\n",
    "x = [i for i in range(n)]\n",
    "plt.plot(x,geometric_sequence)"
   ]
  },
  {
   "cell_type": "code",
   "execution_count": null,
   "metadata": {},
   "outputs": [],
   "source": [
    "a = 0.1\n",
    "r = 1.01344\n",
    "n = 200\n",
    "sn = 100\n",
    "geometric_sequence = []\n",
    "for i in range(n):\n",
    "    geometric_sequence.append(a)\n",
    "    a = a * r\n",
    "\n",
    "x = [i for i in range(n)]\n",
    "plt.plot(x,geometric_sequence)"
   ]
  },
  {
   "cell_type": "code",
   "execution_count": null,
   "metadata": {},
   "outputs": [],
   "source": [
    "a = 1e-2\n",
    "r = 1.02872\n",
    "n = 200\n",
    "sn = 100\n",
    "geometric_sequence = []\n",
    "for i in range(n):\n",
    "    geometric_sequence.append(a)\n",
    "    a = a * r\n",
    "\n",
    "x = [i for i in range(n)]\n",
    "plt.plot(x,geometric_sequence)"
   ]
  },
  {
   "cell_type": "code",
   "execution_count": null,
   "metadata": {},
   "outputs": [],
   "source": [
    "a = 1e-3\n",
    "r = 1.04268\n",
    "n = 200\n",
    "sn = 100\n",
    "geometric_sequence = []\n",
    "for i in range(n):\n",
    "    geometric_sequence.append(a)\n",
    "    a = a * r\n",
    "\n",
    "x = [i for i in range(n)]\n",
    "plt.plot(x,geometric_sequence)"
   ]
  },
  {
   "cell_type": "code",
   "execution_count": null,
   "metadata": {},
   "outputs": [],
   "source": [
    "# a = 1e-4\n",
    "# r = 1.05621\n",
    "# geometric_sequence = []\n",
    "# for i in range(200):\n",
    "#     geometric_sequence.append(a)\n",
    "#     a = a * r\n",
    "\n",
    "# x = [i for i in range(200)]\n",
    "# plt.plot(x,geometric_sequence)"
   ]
  },
  {
   "cell_type": "code",
   "execution_count": null,
   "metadata": {},
   "outputs": [],
   "source": [
    "# a = 1e-5\n",
    "# r = 1.06958\n",
    "# geometric_sequence = []\n",
    "# for i in range(200):\n",
    "#     geometric_sequence.append(a)\n",
    "#     a = a * r\n",
    "\n",
    "# x = [i for i in range(200)]\n",
    "# plt.plot(x,geometric_sequence)"
   ]
  },
  {
   "cell_type": "code",
   "execution_count": null,
   "metadata": {},
   "outputs": [],
   "source": [
    "# a = 1e-6\n",
    "# r = 1.08291\n",
    "# geometric_sequence = []\n",
    "# for i in range(200):\n",
    "#     geometric_sequence.append(a)\n",
    "#     a = a * r\n",
    "\n",
    "# x = [i for i in range(200)]\n",
    "# plt.plot(x,geometric_sequence)"
   ]
  },
  {
   "cell_type": "code",
   "execution_count": null,
   "metadata": {},
   "outputs": [],
   "source": []
  },
  {
   "cell_type": "code",
   "execution_count": null,
   "metadata": {},
   "outputs": [],
   "source": [
    "a = 1e-10\n",
    "r = 1.13679\n",
    "n = 200\n",
    "sn = 100\n",
    "geometric_sequence = []\n",
    "for i in range(n):\n",
    "    geometric_sequence.append(a)\n",
    "    a = a * r\n",
    "\n",
    "x = [i for i in range(n)]\n",
    "plt.plot(x,geometric_sequence)"
   ]
  },
  {
   "cell_type": "code",
   "execution_count": null,
   "metadata": {
    "scrolled": false
   },
   "outputs": [],
   "source": [
    "former_sum = np.array(geometric_sequence[0:150]).sum()\n",
    "latter_sum = np.array(geometric_sequence[150:200]).sum()"
   ]
  },
  {
   "cell_type": "code",
   "execution_count": null,
   "metadata": {},
   "outputs": [],
   "source": [
    "former_sum"
   ]
  },
  {
   "cell_type": "code",
   "execution_count": null,
   "metadata": {},
   "outputs": [],
   "source": [
    "latter_sum"
   ]
  },
  {
   "cell_type": "code",
   "execution_count": null,
   "metadata": {
    "scrolled": false
   },
   "outputs": [],
   "source": [
    "# a = 1e-1\n",
    "# r = 1.01344\n",
    "# geometric_sequence_1 = []\n",
    "# for i in range(200):\n",
    "#     geometric_sequence_1.append(a)\n",
    "#     a = a * r\n",
    "\n",
    "# a = 1e-2\n",
    "# r = 1.02872\n",
    "# geometric_sequence_2 = []\n",
    "# for i in range(200):\n",
    "#     geometric_sequence_2.append(a)\n",
    "#     a = a * r\n",
    "\n",
    "# a = 1e-3\n",
    "# r = 1.04268\n",
    "# geometric_sequence_3 = []\n",
    "# for i in range(200):\n",
    "#     geometric_sequence_3.append(a)\n",
    "#     a = a * r\n",
    "\n",
    "# a = 1e-4\n",
    "# r = 1.05621\n",
    "# geometric_sequence_4 = []\n",
    "# for i in range(200):\n",
    "#     geometric_sequence_4.append(a)\n",
    "#     a = a * r\n",
    "\n",
    "# a = 1e-5\n",
    "# r = 1.06958\n",
    "# geometric_sequence_5 = []\n",
    "# for i in range(200):\n",
    "#     geometric_sequence_5.append(a)\n",
    "#     a = a * r\n",
    "    \n",
    "# a = 1e-6\n",
    "# r = 1.08291\n",
    "# geometric_sequence_6 = []\n",
    "# for i in range(200):\n",
    "#     geometric_sequence_6.append(a)\n",
    "#     a = a * r\n",
    "\n",
    "# x = [i for i in range(200)]\n",
    "# plt.plot(x,geometric_sequence_1)\n",
    "# plt.plot(x,geometric_sequence_2)\n",
    "# plt.plot(x,geometric_sequence_3)\n",
    "# plt.plot(x,geometric_sequence_4)\n",
    "# plt.plot(x,geometric_sequence_5)\n",
    "# plt.plot(x,geometric_sequence_6)"
   ]
  },
  {
   "cell_type": "code",
   "execution_count": null,
   "metadata": {},
   "outputs": [],
   "source": []
  },
  {
   "cell_type": "code",
   "execution_count": null,
   "metadata": {},
   "outputs": [],
   "source": []
  },
  {
   "cell_type": "code",
   "execution_count": null,
   "metadata": {},
   "outputs": [],
   "source": []
  }
 ],
 "metadata": {
  "kernelspec": {
   "display_name": "Python 3 (ipykernel)",
   "language": "python",
   "name": "python3"
  },
  "language_info": {
   "codemirror_mode": {
    "name": "ipython",
    "version": 3
   },
   "file_extension": ".py",
   "mimetype": "text/x-python",
   "name": "python",
   "nbconvert_exporter": "python",
   "pygments_lexer": "ipython3",
   "version": "3.8.3"
  },
  "toc": {
   "base_numbering": 1,
   "nav_menu": {},
   "number_sections": true,
   "sideBar": true,
   "skip_h1_title": false,
   "title_cell": "Table of Contents",
   "title_sidebar": "Contents",
   "toc_cell": false,
   "toc_position": {},
   "toc_section_display": true,
   "toc_window_display": false
  }
 },
 "nbformat": 4,
 "nbformat_minor": 4
}
